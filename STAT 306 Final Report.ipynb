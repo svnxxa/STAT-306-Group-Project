{
 "cells": [
  {
   "cell_type": "markdown",
   "id": "79654151-d64b-4786-9d42-6a15aa389a31",
   "metadata": {},
   "source": [
    "# STAT 306 Group Project #"
   ]
  },
  {
   "cell_type": "markdown",
   "id": "9edbc3cd-eed6-43b4-b203-50533864d152",
   "metadata": {},
   "source": [
    "## Introduction"
   ]
  },
  {
   "cell_type": "markdown",
   "id": "6b13b290-a4bf-4f4f-8c95-8e8f48366a53",
   "metadata": {},
   "source": [
    "The dataset we chose to conduct our analysis is the ‘Student Performance’ dataset obtained from the UC Irvine Machine Learning Repository.  It measures student achievement in secondary education across two Portuguese schools, Gabriel Pereira and Mousinho da Silveira, during the 2005-2006 school year. The dataset consists of 33 variables, including student grades, demographic information, and social and school-related factors, all collected from school reports and questionnaires. Two data files are included in the dataset, one for the subject of Math and one for Portuguese. We chose to focus on the file for ‘Math’, as our group consists of Math and Statistics students and this is more applicable to our fields of study.\n",
    "\n",
    "Variables: \n",
    "- **sex**: Student's sex:  'F' (female) or 'M' (male).\n",
    "- **age**: Student's age, ranging from 15 to 22. \n",
    "- **address**: Student's home address type: 'U' (urban) or 'R' (rural).\n",
    "- **famsize**: Family size: 'LE3' (less or equal to 3) or 'GT3' (greater than 3).\n",
    "- **Pstatus**: Parent's cohabitation status: T' (together) or 'A' (apart).\n",
    "- **Medu**: Mother's education level, coded from 0 (none) to 4 (higher education).\n",
    "- **Fedu**: Father's education level, coded from 0 (none) to 4 (higher education).\n",
    "- **Mjob**: Mother's job, coded as 'teacher', 'health', 'services', 'at_home', or 'other'.\n",
    "- **Fjob**: Father's job, coded as 'teacher', 'health', 'services', 'at_home', or 'other'.\n",
    "- **reason**:Reasons to choose the school, coded as 'home', 'reputation', 'course', or 'other'.\n",
    "- **guardian**: Student's guardian, coded as 'mother', 'father', or 'other'.\n",
    "- **traveltime**: Home to school travel time, coded from 1 (<15 min) to 4 (>1 hour).\n",
    "- **studytime**: Weekly study time, coded from 1 (<2 hours) to 4 (>10 hours).\n",
    "- **failures**: Number of past class failures, coded from 0 (none) to 4 (4 or more).\n",
    "- **school_support**: Extra educational support, coded as 'yes' or 'no'.\n",
    "- **family_support**: Family educational support, coded as 'yes' or 'no'.\n",
    "- **paid**: Extra paid classes within the course subject, coded as 'yes' or 'no'.\n",
    "- **activities**: Participation in extracurricular activities, coded as 'yes' or 'no'.\n",
    "- **nursery**: Attended nursery school, coded as 'yes' or 'no'.\n",
    "- **higher**: Plans for higher education, coded as 'yes' or 'no'.\n",
    "- **internet**: Home internet access, coded as 'yes' or 'no'.\n",
    "- **romantic**:In a romantic relationship, coded as 'yes' or 'no'.\n",
    "- **famrel**: Quality of family relationships, rated from 1 (very bad) to 5 (excellent).\n",
    "- **freetime**: Free time after school, rated from 1 (very low) to 5 (very high).\n",
    "- **goout**: Going out with friends, rated from 1 (very low) to 5 (very high).\n",
    "- **Dalc**: Workday alcohol consumption, rated from 1 (very low) to 5 (very high).\n",
    "- **Walc**: Weekend alcohol consumption, rated from 1 (very low) to 5 (very high).\n",
    "- **health**: Current health status, rated from 1 (very bad) to 5 (very good).\n",
    "- **absences**: Number of school absences, ranging from 0 to 93.\n",
    "- **G3**: Final grade, ranging from 0 to 20 (output target).\n",
    "\n",
    "Note: We have excluded the variables 'school' (name of school; included as part of background of data) and 'G1' and 'G2' (first and second period grade; G3 is a function of G1 and G2 so they are strongly correlated).\n",
    "\n",
    "As students ourselves, naturally we are interested in understanding the factors that contribute to academic success, and how our backgrounds and choices influence our performance. As such, this dataset caught our eye, as it can provide insight into our own lives and our academic careers. This leads us to our research question:\n",
    "\n",
    "<center>What external factors are associated with a student’s academic performance?</center>\n",
    "\n"
   ]
  },
  {
   "cell_type": "code",
   "execution_count": 1,
   "id": "860ce728-bbd3-4c96-84d9-766b66d01536",
   "metadata": {},
   "outputs": [
    {
     "name": "stderr",
     "output_type": "stream",
     "text": [
      "── \u001b[1mAttaching core tidyverse packages\u001b[22m ──────────────────────── tidyverse 2.0.0 ──\n",
      "\u001b[32m✔\u001b[39m \u001b[34mdplyr    \u001b[39m 1.1.4     \u001b[32m✔\u001b[39m \u001b[34mreadr    \u001b[39m 2.1.5\n",
      "\u001b[32m✔\u001b[39m \u001b[34mforcats  \u001b[39m 1.0.0     \u001b[32m✔\u001b[39m \u001b[34mstringr  \u001b[39m 1.5.1\n",
      "\u001b[32m✔\u001b[39m \u001b[34mggplot2  \u001b[39m 3.5.1     \u001b[32m✔\u001b[39m \u001b[34mtibble   \u001b[39m 3.2.1\n",
      "\u001b[32m✔\u001b[39m \u001b[34mlubridate\u001b[39m 1.9.3     \u001b[32m✔\u001b[39m \u001b[34mtidyr    \u001b[39m 1.3.1\n",
      "\u001b[32m✔\u001b[39m \u001b[34mpurrr    \u001b[39m 1.0.2     \n",
      "── \u001b[1mConflicts\u001b[22m ────────────────────────────────────────── tidyverse_conflicts() ──\n",
      "\u001b[31m✖\u001b[39m \u001b[34mdplyr\u001b[39m::\u001b[32mfilter()\u001b[39m masks \u001b[34mstats\u001b[39m::filter()\n",
      "\u001b[31m✖\u001b[39m \u001b[34mdplyr\u001b[39m::\u001b[32mlag()\u001b[39m    masks \u001b[34mstats\u001b[39m::lag()\n",
      "\u001b[36mℹ\u001b[39m Use the conflicted package (\u001b[3m\u001b[34m<http://conflicted.r-lib.org/>\u001b[39m\u001b[23m) to force all conflicts to become errors\n"
     ]
    }
   ],
   "source": [
    "# Import libraries\n",
    "library(tidyverse)\n",
    "library(dplyr)\n",
    "library(ggplot2)"
   ]
  },
  {
   "cell_type": "code",
   "execution_count": 2,
   "id": "a48a7c8f-b9b9-4a53-80dd-4ff8bc95a4af",
   "metadata": {},
   "outputs": [],
   "source": [
    "# Read the dataset\n",
    "data <- read.csv(\"student-mat.csv\", header = TRUE, sep = \";\")\n",
    "#head(data)"
   ]
  },
  {
   "cell_type": "code",
   "execution_count": 3,
   "id": "fc7dd051-77f2-4925-a809-d9078154f878",
   "metadata": {},
   "outputs": [
    {
     "data": {
      "text/html": [
       "<table class=\"dataframe\">\n",
       "<caption>A data.frame: 6 × 30</caption>\n",
       "<thead>\n",
       "\t<tr><th></th><th scope=col>sex</th><th scope=col>age</th><th scope=col>address</th><th scope=col>famsize</th><th scope=col>Pstatus</th><th scope=col>Medu</th><th scope=col>Fedu</th><th scope=col>Mjob</th><th scope=col>Fjob</th><th scope=col>reason</th><th scope=col>⋯</th><th scope=col>internet</th><th scope=col>romantic</th><th scope=col>famrel</th><th scope=col>freetime</th><th scope=col>goout</th><th scope=col>Dalc</th><th scope=col>Walc</th><th scope=col>health</th><th scope=col>absences</th><th scope=col>final_grade</th></tr>\n",
       "\t<tr><th></th><th scope=col>&lt;chr&gt;</th><th scope=col>&lt;int&gt;</th><th scope=col>&lt;chr&gt;</th><th scope=col>&lt;chr&gt;</th><th scope=col>&lt;chr&gt;</th><th scope=col>&lt;int&gt;</th><th scope=col>&lt;int&gt;</th><th scope=col>&lt;chr&gt;</th><th scope=col>&lt;chr&gt;</th><th scope=col>&lt;chr&gt;</th><th scope=col>⋯</th><th scope=col>&lt;chr&gt;</th><th scope=col>&lt;chr&gt;</th><th scope=col>&lt;int&gt;</th><th scope=col>&lt;int&gt;</th><th scope=col>&lt;int&gt;</th><th scope=col>&lt;int&gt;</th><th scope=col>&lt;int&gt;</th><th scope=col>&lt;int&gt;</th><th scope=col>&lt;int&gt;</th><th scope=col>&lt;int&gt;</th></tr>\n",
       "</thead>\n",
       "<tbody>\n",
       "\t<tr><th scope=row>1</th><td>F</td><td>18</td><td>U</td><td>GT3</td><td>A</td><td>4</td><td>4</td><td>at_home </td><td>teacher </td><td>course    </td><td>⋯</td><td>no </td><td>no </td><td>4</td><td>3</td><td>4</td><td>1</td><td>1</td><td>3</td><td> 6</td><td> 6</td></tr>\n",
       "\t<tr><th scope=row>2</th><td>F</td><td>17</td><td>U</td><td>GT3</td><td>T</td><td>1</td><td>1</td><td>at_home </td><td>other   </td><td>course    </td><td>⋯</td><td>yes</td><td>no </td><td>5</td><td>3</td><td>3</td><td>1</td><td>1</td><td>3</td><td> 4</td><td> 6</td></tr>\n",
       "\t<tr><th scope=row>3</th><td>F</td><td>15</td><td>U</td><td>LE3</td><td>T</td><td>1</td><td>1</td><td>at_home </td><td>other   </td><td>other     </td><td>⋯</td><td>yes</td><td>no </td><td>4</td><td>3</td><td>2</td><td>2</td><td>3</td><td>3</td><td>10</td><td>10</td></tr>\n",
       "\t<tr><th scope=row>4</th><td>F</td><td>15</td><td>U</td><td>GT3</td><td>T</td><td>4</td><td>2</td><td>health  </td><td>services</td><td>home      </td><td>⋯</td><td>yes</td><td>yes</td><td>3</td><td>2</td><td>2</td><td>1</td><td>1</td><td>5</td><td> 2</td><td>15</td></tr>\n",
       "\t<tr><th scope=row>5</th><td>F</td><td>16</td><td>U</td><td>GT3</td><td>T</td><td>3</td><td>3</td><td>other   </td><td>other   </td><td>home      </td><td>⋯</td><td>no </td><td>no </td><td>4</td><td>3</td><td>2</td><td>1</td><td>2</td><td>5</td><td> 4</td><td>10</td></tr>\n",
       "\t<tr><th scope=row>6</th><td>M</td><td>16</td><td>U</td><td>LE3</td><td>T</td><td>4</td><td>3</td><td>services</td><td>other   </td><td>reputation</td><td>⋯</td><td>yes</td><td>no </td><td>5</td><td>4</td><td>2</td><td>1</td><td>2</td><td>5</td><td>10</td><td>15</td></tr>\n",
       "</tbody>\n",
       "</table>\n"
      ],
      "text/latex": [
       "A data.frame: 6 × 30\n",
       "\\begin{tabular}{r|lllllllllllllllllllll}\n",
       "  & sex & age & address & famsize & Pstatus & Medu & Fedu & Mjob & Fjob & reason & ⋯ & internet & romantic & famrel & freetime & goout & Dalc & Walc & health & absences & final\\_grade\\\\\n",
       "  & <chr> & <int> & <chr> & <chr> & <chr> & <int> & <int> & <chr> & <chr> & <chr> & ⋯ & <chr> & <chr> & <int> & <int> & <int> & <int> & <int> & <int> & <int> & <int>\\\\\n",
       "\\hline\n",
       "\t1 & F & 18 & U & GT3 & A & 4 & 4 & at\\_home  & teacher  & course     & ⋯ & no  & no  & 4 & 3 & 4 & 1 & 1 & 3 &  6 &  6\\\\\n",
       "\t2 & F & 17 & U & GT3 & T & 1 & 1 & at\\_home  & other    & course     & ⋯ & yes & no  & 5 & 3 & 3 & 1 & 1 & 3 &  4 &  6\\\\\n",
       "\t3 & F & 15 & U & LE3 & T & 1 & 1 & at\\_home  & other    & other      & ⋯ & yes & no  & 4 & 3 & 2 & 2 & 3 & 3 & 10 & 10\\\\\n",
       "\t4 & F & 15 & U & GT3 & T & 4 & 2 & health   & services & home       & ⋯ & yes & yes & 3 & 2 & 2 & 1 & 1 & 5 &  2 & 15\\\\\n",
       "\t5 & F & 16 & U & GT3 & T & 3 & 3 & other    & other    & home       & ⋯ & no  & no  & 4 & 3 & 2 & 1 & 2 & 5 &  4 & 10\\\\\n",
       "\t6 & M & 16 & U & LE3 & T & 4 & 3 & services & other    & reputation & ⋯ & yes & no  & 5 & 4 & 2 & 1 & 2 & 5 & 10 & 15\\\\\n",
       "\\end{tabular}\n"
      ],
      "text/markdown": [
       "\n",
       "A data.frame: 6 × 30\n",
       "\n",
       "| <!--/--> | sex &lt;chr&gt; | age &lt;int&gt; | address &lt;chr&gt; | famsize &lt;chr&gt; | Pstatus &lt;chr&gt; | Medu &lt;int&gt; | Fedu &lt;int&gt; | Mjob &lt;chr&gt; | Fjob &lt;chr&gt; | reason &lt;chr&gt; | ⋯ ⋯ | internet &lt;chr&gt; | romantic &lt;chr&gt; | famrel &lt;int&gt; | freetime &lt;int&gt; | goout &lt;int&gt; | Dalc &lt;int&gt; | Walc &lt;int&gt; | health &lt;int&gt; | absences &lt;int&gt; | final_grade &lt;int&gt; |\n",
       "|---|---|---|---|---|---|---|---|---|---|---|---|---|---|---|---|---|---|---|---|---|---|\n",
       "| 1 | F | 18 | U | GT3 | A | 4 | 4 | at_home  | teacher  | course     | ⋯ | no  | no  | 4 | 3 | 4 | 1 | 1 | 3 |  6 |  6 |\n",
       "| 2 | F | 17 | U | GT3 | T | 1 | 1 | at_home  | other    | course     | ⋯ | yes | no  | 5 | 3 | 3 | 1 | 1 | 3 |  4 |  6 |\n",
       "| 3 | F | 15 | U | LE3 | T | 1 | 1 | at_home  | other    | other      | ⋯ | yes | no  | 4 | 3 | 2 | 2 | 3 | 3 | 10 | 10 |\n",
       "| 4 | F | 15 | U | GT3 | T | 4 | 2 | health   | services | home       | ⋯ | yes | yes | 3 | 2 | 2 | 1 | 1 | 5 |  2 | 15 |\n",
       "| 5 | F | 16 | U | GT3 | T | 3 | 3 | other    | other    | home       | ⋯ | no  | no  | 4 | 3 | 2 | 1 | 2 | 5 |  4 | 10 |\n",
       "| 6 | M | 16 | U | LE3 | T | 4 | 3 | services | other    | reputation | ⋯ | yes | no  | 5 | 4 | 2 | 1 | 2 | 5 | 10 | 15 |\n",
       "\n"
      ],
      "text/plain": [
       "  sex age address famsize Pstatus Medu Fedu Mjob     Fjob     reason     ⋯\n",
       "1 F   18  U       GT3     A       4    4    at_home  teacher  course     ⋯\n",
       "2 F   17  U       GT3     T       1    1    at_home  other    course     ⋯\n",
       "3 F   15  U       LE3     T       1    1    at_home  other    other      ⋯\n",
       "4 F   15  U       GT3     T       4    2    health   services home       ⋯\n",
       "5 F   16  U       GT3     T       3    3    other    other    home       ⋯\n",
       "6 M   16  U       LE3     T       4    3    services other    reputation ⋯\n",
       "  internet romantic famrel freetime goout Dalc Walc health absences final_grade\n",
       "1 no       no       4      3        4     1    1    3       6        6         \n",
       "2 yes      no       5      3        3     1    1    3       4        6         \n",
       "3 yes      no       4      3        2     2    3    3      10       10         \n",
       "4 yes      yes      3      2        2     1    1    5       2       15         \n",
       "5 no       no       4      3        2     1    2    5       4       10         \n",
       "6 yes      no       5      4        2     1    2    5      10       15         "
      ]
     },
     "metadata": {},
     "output_type": "display_data"
    }
   ],
   "source": [
    "# Wrangling the dataset\n",
    "# data <- data |>\n",
    "#     mutate(final_grade = G3, age = as.factor(age), Medu = as.factor(Medu), Fedu = as.factor(Fedu), traveltime = as.factor(traveltime), studytime = as.factor(studytime), \n",
    "#           failures = as.factor(failures), romantic = as.factor(romantic), famrel = as.factor(famrel), freetime = as.factor(freetime), goout = as.factor(goout), \n",
    "#            Dalc = as.factor(Dalc), Walc = as.factor(Walc), health = as.factor(health)) |>\n",
    "#     select(-school, -G1, -G2, -G3)\n",
    "# head(data)\n",
    "\n",
    "# Wrangling the dataset\n",
    "data <- data |>\n",
    "    rename(final_grade = G3) |> # Rename G3 to final_grade\n",
    "    select(-school, -G1, -G2)\n",
    "#head(data)\n",
    "\n",
    "# Filter the data to exclude rows where final_grade = 0\n",
    "filtered_data <- data %>% filter(final_grade > 0)\n",
    "head(filtered_data)"
   ]
  },
  {
   "cell_type": "code",
   "execution_count": 4,
   "id": "413f9638-85c4-464d-9c6c-d9ec9edf382c",
   "metadata": {},
   "outputs": [
    {
     "data": {
      "text/html": [
       "0"
      ],
      "text/latex": [
       "0"
      ],
      "text/markdown": [
       "0"
      ],
      "text/plain": [
       "[1] 0"
      ]
     },
     "metadata": {},
     "output_type": "display_data"
    }
   ],
   "source": [
    "sum(is.na(data))"
   ]
  },
  {
   "cell_type": "markdown",
   "id": "6791bbc8-1223-4546-82d6-19b08a1f5b92",
   "metadata": {},
   "source": [
    "## Exploratory Data Analysis"
   ]
  },
  {
   "cell_type": "code",
   "execution_count": 5,
   "id": "f9a03429-7100-4e71-98a2-8da93e139717",
   "metadata": {},
   "outputs": [
    {
     "name": "stderr",
     "output_type": "stream",
     "text": [
      "Warning message:\n",
      "“\u001b[1m\u001b[22m`aes_string()` was deprecated in ggplot2 3.0.0.\n",
      "\u001b[36mℹ\u001b[39m Please use tidy evaluation idioms with `aes()`.\n",
      "\u001b[36mℹ\u001b[39m See also `vignette(\"ggplot2-in-packages\")` for more information.”\n"
     ]
    }
   ],
   "source": [
    "##VISUALIZATION\n",
    "\n",
    "# Identify categorical and continuous variables\n",
    "categorical_vars <- c(\"sex\", \"address\", \"famsize\", \"Pstatus\", \"Mjob\", \"Fjob\", \"reason\", \"guardian\", \"schoolsup\", \"famsup\", \"paid\", \"activities\", \"nursery\", \"higher\", \"internet\", \n",
    "                      \"age\", \"Medu\", \"Fedu\", \"traveltime\", \"studytime\", \"failures\", \"romantic\", \"famrel\", \"freetime\", \"goout\", \"Dalc\", \"Walc\", \"health\")\n",
    "# continuous_vars <- c(\"age\", \"Medu\", \"Fedu\", \"traveltime\", \"studytime\", \"failures\", \"romantic\", \"famrel\", \"freetime\", \"goout\", \"Dalc\", \"Walc\", \"health\", \"absences\")\n",
    "\n",
    "\n",
    "\n",
    "# Choose a response variable (e.g., G3)\n",
    "response_var <- \"final_grade\"\n",
    "\n",
    "# Create boxplots for categorical variables\n",
    "boxplots <- lapply(categorical_vars, function(var) {\n",
    "  ggplot(data, aes_string(x = var, y = response_var)) +\n",
    "    geom_boxplot() +\n",
    "    theme_minimal() +\n",
    "    ggtitle(paste(\"Boxplot of\", response_var, \"by\", var))\n",
    "})\n",
    "\n",
    "# Combine all plots\n",
    "all_plots <- c(boxplots)\n",
    "\n",
    "scatterplot <- ggplot(data, aes(x = absences, y = final_grade)) +\n",
    "    geom_point(alpha = 0.7) +\n",
    "    ggtitle(paste(\"Scatterplot of\", response_var, \"vs absences\"))\n"
   ]
  },
  {
   "cell_type": "code",
   "execution_count": 6,
   "id": "99712d07-fa06-4d6f-ba75-f35c1c78806f",
   "metadata": {},
   "outputs": [
    {
     "data": {
      "image/png": "[encoded data removed]",
      "text/plain": [
       "plot without title"
      ]
     },
     "metadata": {
      "image/png": {
       "height": 360,
       "width": 660
      }
     },
     "output_type": "display_data"
    }
   ],
   "source": [
    "# Create a histogram to visualize the distribution of grades\n",
    "options(repr.plot.width = 11, repr.plot.height = 6)\n",
    "students_grade_dist <- data %>% \n",
    "    ggplot(aes(x = final_grade)) +\n",
    "    geom_histogram(binwidth = 1) + \n",
    "    labs(x = \"Final Grade\",\n",
    "        title = \"Distribution of Final Grades\",\n",
    "        caption = \"Figure __\") \n",
    "students_grade_dist"
   ]
  },
  {
   "cell_type": "code",
   "execution_count": 7,
   "id": "a3927053-b06d-47a8-9ab6-ae8ea9c9e264",
   "metadata": {},
   "outputs": [
    {
     "name": "stderr",
     "output_type": "stream",
     "text": [
      "Warning message:\n",
      "“\u001b[1m\u001b[22mRemoved 2 rows containing missing values or values outside the scale range\n",
      "(`geom_bar()`).”\n"
     ]
    },
    {
     "data": {
      "image/png": "[encoded data removed]",
      "text/plain": [
       "plot without title"
      ]
     },
     "metadata": {
      "image/png": {
       "height": 360,
       "width": 660
      }
     },
     "output_type": "display_data"
    }
   ],
   "source": [
    "# Create a histogram to visualize the distribution of grades\n",
    "options(repr.plot.width = 11, repr.plot.height = 6)\n",
    "students_grade_dist_new <- data %>% \n",
    "    ggplot(aes(x = final_grade)) +\n",
    "    geom_histogram(binwidth = 1) + \n",
    "    scale_x_continuous(limits = c(0,20)) +\n",
    "    labs(x = \"Final Grade\",\n",
    "        title = \"Distribution of Final Grades\",\n",
    "        caption = \"Figure __\") \n",
    "students_grade_dist_new"
   ]
  },
  {
   "cell_type": "markdown",
   "id": "6a7c806e-8d23-4e56-937f-05c5ae8de3c3",
   "metadata": {},
   "source": [
    "## Fitting Linear Model: Multiple Linear Regression"
   ]
  },
  {
   "cell_type": "code",
   "execution_count": 8,
   "id": "25fa42af-14bf-4af8-bde1-6124617d3aa2",
   "metadata": {},
   "outputs": [
    {
     "data": {
      "text/plain": [
       "\n",
       "Call:\n",
       "lm(formula = final_grade ~ ., data = filtered_data)\n",
       "\n",
       "Residuals:\n",
       "    Min      1Q  Median      3Q     Max \n",
       "-6.8079 -1.8833 -0.1467  1.8142  7.3336 \n",
       "\n",
       "Coefficients:\n",
       "                Estimate Std. Error t value Pr(>|t|)    \n",
       "(Intercept)    16.247026   3.099737   5.241 2.85e-07 ***\n",
       "sexM            0.891723   0.342971   2.600 0.009743 ** \n",
       "age            -0.283129   0.145005  -1.953 0.051721 .  \n",
       "addressU        0.499867   0.401267   1.246 0.213752    \n",
       "Medu            0.049563   0.223392   0.222 0.824558    \n",
       "Fedu            0.098209   0.195567   0.502 0.615882    \n",
       "Mjobhealth      1.341178   0.795669   1.686 0.092821 .  \n",
       "Mjobother      -0.373530   0.523551  -0.713 0.476070    \n",
       "Mjobservices    0.904500   0.584606   1.547 0.122777    \n",
       "Mjobteacher    -0.610941   0.741913  -0.823 0.410839    \n",
       "Fjobhealth     -0.866157   1.013623  -0.855 0.393441    \n",
       "Fjobother      -0.807027   0.747956  -1.079 0.281388    \n",
       "Fjobservices   -0.828518   0.775951  -1.068 0.286418    \n",
       "Fjobteacher     1.209382   0.934948   1.294 0.196736    \n",
       "guardianmother  0.032293   0.385686   0.084 0.933323    \n",
       "guardianother   0.518099   0.732973   0.707 0.480162    \n",
       "traveltime      0.048579   0.240005   0.202 0.839721    \n",
       "studytime       0.492341   0.201096   2.448 0.014875 *  \n",
       "failures       -0.974710   0.270585  -3.602 0.000364 ***\n",
       "schoolsupyes   -2.470115   0.466814  -5.291 2.22e-07 ***\n",
       "higheryes       0.247772   0.852325   0.291 0.771463    \n",
       "internetyes     0.322971   0.437037   0.739 0.460434    \n",
       "famrel          0.163492   0.177959   0.919 0.358923    \n",
       "freetime        0.074904   0.166658   0.449 0.653407    \n",
       "goout          -0.443107   0.167185  -2.650 0.008428 ** \n",
       "Dalc           -0.005604   0.227821  -0.025 0.980392    \n",
       "Walc           -0.161862   0.177728  -0.911 0.363107    \n",
       "health         -0.249235   0.112673  -2.212 0.027652 *  \n",
       "---\n",
       "Signif. codes:  0 ‘***’ 0.001 ‘**’ 0.01 ‘*’ 0.05 ‘.’ 0.1 ‘ ’ 1\n",
       "\n",
       "Residual standard error: 2.814 on 329 degrees of freedom\n",
       "Multiple R-squared:  0.2974,\tAdjusted R-squared:  0.2398 \n",
       "F-statistic: 5.159 on 27 and 329 DF,  p-value: 9.27e-14\n"
      ]
     },
     "metadata": {},
     "output_type": "display_data"
    }
   ],
   "source": [
    "data_selected <- data |>\n",
    "    select(-famsize, -Pstatus, -reason, -famsup, -paid, -activities, -nursery, -romantic, -absences)\n",
    "\n",
    "filtered_data <- data_selected %>%\n",
    "  filter(final_grade != 0)\n",
    "\n",
    "#filtered_data$final_grade\n",
    "#log(data_selected$final_grade)\n",
    "#data_selected$final_grade\n",
    "\n",
    "linear_model <- lm(final_grade ~. , data = filtered_data)\n",
    "summary <- summary(linear_model)\n",
    "summary"
   ]
  },
  {
   "cell_type": "code",
   "execution_count": 9,
   "id": "7be1102a-86d3-4bdd-978c-045d93c6592a",
   "metadata": {},
   "outputs": [
    {
     "data": {
      "image/png": "[encoded data removed]",
      "text/plain": [
       "Plot with title “Residuals vs Fitted Values”"
      ]
     },
     "metadata": {
      "image/png": {
       "height": 360,
       "width": 660
      }
     },
     "output_type": "display_data"
    },
    {
     "data": {
      "image/png": "[encoded data removed]",
      "text/plain": [
       "plot without title"
      ]
     },
     "metadata": {
      "image/png": {
       "height": 360,
       "width": 660
      }
     },
     "output_type": "display_data"
    }
   ],
   "source": [
    "plot(linear_model$fitted.values, linear_model$residuals,\n",
    "     xlab = \"Fitted Values\",\n",
    "     ylab = \"Residuals\",\n",
    "     main = \"Residuals vs Fitted Values\")\n",
    "grid()\n",
    "\n",
    "library(ggplot2)\n",
    "residuals_df <- data.frame(Residuals = residuals(linear_model))\n",
    "ggplot(residuals_df, aes(sample=Residuals)) +\n",
    "  stat_qq() +\n",
    "  stat_qq_line(color = \"red\") +\n",
    "  ggtitle(\"QQ Plot of Residuals from Linear Model\") +\n",
    "  theme_minimal()"
   ]
  },
  {
   "cell_type": "markdown",
   "id": "2d172b0f-91f2-43fd-bc07-5a923946d7d0",
   "metadata": {},
   "source": [
    "## Analysis : Best Subset Selection"
   ]
  },
  {
   "cell_type": "code",
   "execution_count": 10,
   "id": "60a490d9-5884-4bed-a8ed-12882cd17ea7",
   "metadata": {},
   "outputs": [
    {
     "data": {
      "text/plain": [
       "Subset selection object\n",
       "Call: regsubsets.formula(x = final_grade ~ ., nvmax = 26, data = filtered_data, \n",
       "    method = \"exhaustive\")\n",
       "27 Variables  (and intercept)\n",
       "               Forced in Forced out\n",
       "sexM               FALSE      FALSE\n",
       "age                FALSE      FALSE\n",
       "addressU           FALSE      FALSE\n",
       "Medu               FALSE      FALSE\n",
       "Fedu               FALSE      FALSE\n",
       "Mjobhealth         FALSE      FALSE\n",
       "Mjobother          FALSE      FALSE\n",
       "Mjobservices       FALSE      FALSE\n",
       "Mjobteacher        FALSE      FALSE\n",
       "Fjobhealth         FALSE      FALSE\n",
       "Fjobother          FALSE      FALSE\n",
       "Fjobservices       FALSE      FALSE\n",
       "Fjobteacher        FALSE      FALSE\n",
       "guardianmother     FALSE      FALSE\n",
       "guardianother      FALSE      FALSE\n",
       "traveltime         FALSE      FALSE\n",
       "studytime          FALSE      FALSE\n",
       "failures           FALSE      FALSE\n",
       "schoolsupyes       FALSE      FALSE\n",
       "higheryes          FALSE      FALSE\n",
       "internetyes        FALSE      FALSE\n",
       "famrel             FALSE      FALSE\n",
       "freetime           FALSE      FALSE\n",
       "goout              FALSE      FALSE\n",
       "Dalc               FALSE      FALSE\n",
       "Walc               FALSE      FALSE\n",
       "health             FALSE      FALSE\n",
       "1 subsets of each size up to 26\n",
       "Selection Algorithm: exhaustive\n",
       "          sexM age addressU Medu Fedu Mjobhealth Mjobother Mjobservices\n",
       "1  ( 1 )  \" \"  \" \" \" \"      \" \"  \" \"  \" \"        \" \"       \" \"         \n",
       "2  ( 1 )  \" \"  \" \" \" \"      \" \"  \" \"  \" \"        \" \"       \" \"         \n",
       "3  ( 1 )  \" \"  \" \" \" \"      \" \"  \" \"  \" \"        \" \"       \" \"         \n",
       "4  ( 1 )  \" \"  \" \" \" \"      \" \"  \" \"  \" \"        \" \"       \"*\"         \n",
       "5  ( 1 )  \" \"  \" \" \" \"      \" \"  \" \"  \" \"        \" \"       \"*\"         \n",
       "6  ( 1 )  \" \"  \" \" \" \"      \" \"  \" \"  \"*\"        \" \"       \"*\"         \n",
       "7  ( 1 )  \" \"  \" \" \" \"      \" \"  \" \"  \"*\"        \" \"       \"*\"         \n",
       "8  ( 1 )  \"*\"  \" \" \" \"      \" \"  \" \"  \"*\"        \" \"       \"*\"         \n",
       "9  ( 1 )  \"*\"  \" \" \" \"      \" \"  \" \"  \"*\"        \" \"       \"*\"         \n",
       "10  ( 1 ) \"*\"  \"*\" \" \"      \" \"  \" \"  \"*\"        \" \"       \"*\"         \n",
       "11  ( 1 ) \"*\"  \"*\" \" \"      \" \"  \" \"  \"*\"        \" \"       \"*\"         \n",
       "12  ( 1 ) \"*\"  \"*\" \"*\"      \" \"  \" \"  \"*\"        \" \"       \"*\"         \n",
       "13  ( 1 ) \"*\"  \"*\" \"*\"      \" \"  \" \"  \"*\"        \" \"       \"*\"         \n",
       "14  ( 1 ) \"*\"  \"*\" \"*\"      \" \"  \" \"  \"*\"        \" \"       \"*\"         \n",
       "15  ( 1 ) \"*\"  \"*\" \"*\"      \" \"  \" \"  \"*\"        \" \"       \"*\"         \n",
       "16  ( 1 ) \"*\"  \"*\" \"*\"      \" \"  \" \"  \"*\"        \" \"       \"*\"         \n",
       "17  ( 1 ) \"*\"  \"*\" \"*\"      \" \"  \" \"  \"*\"        \" \"       \"*\"         \n",
       "18  ( 1 ) \"*\"  \"*\" \"*\"      \" \"  \" \"  \"*\"        \" \"       \"*\"         \n",
       "19  ( 1 ) \"*\"  \"*\" \"*\"      \" \"  \"*\"  \"*\"        \" \"       \"*\"         \n",
       "20  ( 1 ) \"*\"  \"*\" \"*\"      \" \"  \"*\"  \"*\"        \" \"       \"*\"         \n",
       "21  ( 1 ) \"*\"  \"*\" \"*\"      \" \"  \"*\"  \"*\"        \"*\"       \"*\"         \n",
       "22  ( 1 ) \"*\"  \"*\" \"*\"      \" \"  \"*\"  \"*\"        \"*\"       \"*\"         \n",
       "23  ( 1 ) \"*\"  \"*\" \"*\"      \" \"  \"*\"  \"*\"        \"*\"       \"*\"         \n",
       "24  ( 1 ) \"*\"  \"*\" \"*\"      \"*\"  \"*\"  \"*\"        \"*\"       \"*\"         \n",
       "25  ( 1 ) \"*\"  \"*\" \"*\"      \"*\"  \"*\"  \"*\"        \"*\"       \"*\"         \n",
       "26  ( 1 ) \"*\"  \"*\" \"*\"      \"*\"  \"*\"  \"*\"        \"*\"       \"*\"         \n",
       "          Mjobteacher Fjobhealth Fjobother Fjobservices Fjobteacher\n",
       "1  ( 1 )  \" \"         \" \"        \" \"       \" \"          \" \"        \n",
       "2  ( 1 )  \" \"         \" \"        \" \"       \" \"          \" \"        \n",
       "3  ( 1 )  \" \"         \" \"        \" \"       \" \"          \" \"        \n",
       "4  ( 1 )  \" \"         \" \"        \" \"       \" \"          \" \"        \n",
       "5  ( 1 )  \" \"         \" \"        \" \"       \" \"          \"*\"        \n",
       "6  ( 1 )  \" \"         \" \"        \" \"       \" \"          \"*\"        \n",
       "7  ( 1 )  \" \"         \" \"        \" \"       \" \"          \"*\"        \n",
       "8  ( 1 )  \" \"         \" \"        \" \"       \" \"          \"*\"        \n",
       "9  ( 1 )  \" \"         \" \"        \" \"       \" \"          \"*\"        \n",
       "10  ( 1 ) \" \"         \" \"        \" \"       \" \"          \"*\"        \n",
       "11  ( 1 ) \" \"         \" \"        \" \"       \" \"          \"*\"        \n",
       "12  ( 1 ) \" \"         \" \"        \" \"       \" \"          \"*\"        \n",
       "13  ( 1 ) \" \"         \" \"        \" \"       \" \"          \"*\"        \n",
       "14  ( 1 ) \" \"         \" \"        \" \"       \" \"          \"*\"        \n",
       "15  ( 1 ) \" \"         \" \"        \" \"       \" \"          \"*\"        \n",
       "16  ( 1 ) \" \"         \"*\"        \"*\"       \"*\"          \"*\"        \n",
       "17  ( 1 ) \" \"         \"*\"        \"*\"       \"*\"          \"*\"        \n",
       "18  ( 1 ) \" \"         \"*\"        \"*\"       \"*\"          \"*\"        \n",
       "19  ( 1 ) \" \"         \"*\"        \"*\"       \"*\"          \"*\"        \n",
       "20  ( 1 ) \"*\"         \"*\"        \"*\"       \"*\"          \"*\"        \n",
       "21  ( 1 ) \"*\"         \"*\"        \"*\"       \"*\"          \"*\"        \n",
       "22  ( 1 ) \"*\"         \"*\"        \"*\"       \"*\"          \"*\"        \n",
       "23  ( 1 ) \"*\"         \"*\"        \"*\"       \"*\"          \"*\"        \n",
       "24  ( 1 ) \"*\"         \"*\"        \"*\"       \"*\"          \"*\"        \n",
       "25  ( 1 ) \"*\"         \"*\"        \"*\"       \"*\"          \"*\"        \n",
       "26  ( 1 ) \"*\"         \"*\"        \"*\"       \"*\"          \"*\"        \n",
       "          guardianmother guardianother traveltime studytime failures\n",
       "1  ( 1 )  \" \"            \" \"           \" \"        \" \"       \"*\"     \n",
       "2  ( 1 )  \" \"            \" \"           \" \"        \" \"       \"*\"     \n",
       "3  ( 1 )  \" \"            \" \"           \" \"        \" \"       \"*\"     \n",
       "4  ( 1 )  \" \"            \" \"           \" \"        \" \"       \"*\"     \n",
       "5  ( 1 )  \" \"            \" \"           \" \"        \" \"       \"*\"     \n",
       "6  ( 1 )  \" \"            \" \"           \" \"        \" \"       \"*\"     \n",
       "7  ( 1 )  \" \"            \" \"           \" \"        \"*\"       \"*\"     \n",
       "8  ( 1 )  \" \"            \" \"           \" \"        \"*\"       \"*\"     \n",
       "9  ( 1 )  \" \"            \" \"           \" \"        \"*\"       \"*\"     \n",
       "10  ( 1 ) \" \"            \" \"           \" \"        \"*\"       \"*\"     \n",
       "11  ( 1 ) \" \"            \" \"           \" \"        \"*\"       \"*\"     \n",
       "12  ( 1 ) \" \"            \" \"           \" \"        \"*\"       \"*\"     \n",
       "13  ( 1 ) \" \"            \" \"           \" \"        \"*\"       \"*\"     \n",
       "14  ( 1 ) \" \"            \"*\"           \" \"        \"*\"       \"*\"     \n",
       "15  ( 1 ) \" \"            \"*\"           \" \"        \"*\"       \"*\"     \n",
       "16  ( 1 ) \" \"            \" \"           \" \"        \"*\"       \"*\"     \n",
       "17  ( 1 ) \" \"            \"*\"           \" \"        \"*\"       \"*\"     \n",
       "18  ( 1 ) \" \"            \"*\"           \" \"        \"*\"       \"*\"     \n",
       "19  ( 1 ) \" \"            \"*\"           \" \"        \"*\"       \"*\"     \n",
       "20  ( 1 ) \" \"            \"*\"           \" \"        \"*\"       \"*\"     \n",
       "21  ( 1 ) \" \"            \"*\"           \" \"        \"*\"       \"*\"     \n",
       "22  ( 1 ) \" \"            \"*\"           \" \"        \"*\"       \"*\"     \n",
       "23  ( 1 ) \" \"            \"*\"           \" \"        \"*\"       \"*\"     \n",
       "24  ( 1 ) \" \"            \"*\"           \" \"        \"*\"       \"*\"     \n",
       "25  ( 1 ) \" \"            \"*\"           \"*\"        \"*\"       \"*\"     \n",
       "26  ( 1 ) \"*\"            \"*\"           \"*\"        \"*\"       \"*\"     \n",
       "          schoolsupyes higheryes internetyes famrel freetime goout Dalc Walc\n",
       "1  ( 1 )  \" \"          \" \"       \" \"         \" \"    \" \"      \" \"   \" \"  \" \" \n",
       "2  ( 1 )  \"*\"          \" \"       \" \"         \" \"    \" \"      \" \"   \" \"  \" \" \n",
       "3  ( 1 )  \"*\"          \" \"       \" \"         \" \"    \" \"      \" \"   \" \"  \"*\" \n",
       "4  ( 1 )  \"*\"          \" \"       \" \"         \" \"    \" \"      \" \"   \" \"  \"*\" \n",
       "5  ( 1 )  \"*\"          \" \"       \" \"         \" \"    \" \"      \" \"   \" \"  \"*\" \n",
       "6  ( 1 )  \"*\"          \" \"       \" \"         \" \"    \" \"      \"*\"   \" \"  \" \" \n",
       "7  ( 1 )  \"*\"          \" \"       \" \"         \" \"    \" \"      \"*\"   \" \"  \" \" \n",
       "8  ( 1 )  \"*\"          \" \"       \" \"         \" \"    \" \"      \"*\"   \" \"  \" \" \n",
       "9  ( 1 )  \"*\"          \" \"       \" \"         \" \"    \" \"      \"*\"   \" \"  \" \" \n",
       "10  ( 1 ) \"*\"          \" \"       \" \"         \" \"    \" \"      \"*\"   \" \"  \" \" \n",
       "11  ( 1 ) \"*\"          \" \"       \" \"         \" \"    \" \"      \"*\"   \" \"  \"*\" \n",
       "12  ( 1 ) \"*\"          \" \"       \" \"         \" \"    \" \"      \"*\"   \" \"  \"*\" \n",
       "13  ( 1 ) \"*\"          \" \"       \" \"         \"*\"    \" \"      \"*\"   \" \"  \"*\" \n",
       "14  ( 1 ) \"*\"          \" \"       \" \"         \"*\"    \" \"      \"*\"   \" \"  \"*\" \n",
       "15  ( 1 ) \"*\"          \" \"       \"*\"         \"*\"    \" \"      \"*\"   \" \"  \"*\" \n",
       "16  ( 1 ) \"*\"          \" \"       \" \"         \"*\"    \" \"      \"*\"   \" \"  \"*\" \n",
       "17  ( 1 ) \"*\"          \" \"       \" \"         \"*\"    \" \"      \"*\"   \" \"  \"*\" \n",
       "18  ( 1 ) \"*\"          \" \"       \"*\"         \"*\"    \" \"      \"*\"   \" \"  \"*\" \n",
       "19  ( 1 ) \"*\"          \" \"       \"*\"         \"*\"    \" \"      \"*\"   \" \"  \"*\" \n",
       "20  ( 1 ) \"*\"          \" \"       \"*\"         \"*\"    \" \"      \"*\"   \" \"  \"*\" \n",
       "21  ( 1 ) \"*\"          \" \"       \"*\"         \"*\"    \" \"      \"*\"   \" \"  \"*\" \n",
       "22  ( 1 ) \"*\"          \" \"       \"*\"         \"*\"    \"*\"      \"*\"   \" \"  \"*\" \n",
       "23  ( 1 ) \"*\"          \"*\"       \"*\"         \"*\"    \"*\"      \"*\"   \" \"  \"*\" \n",
       "24  ( 1 ) \"*\"          \"*\"       \"*\"         \"*\"    \"*\"      \"*\"   \" \"  \"*\" \n",
       "25  ( 1 ) \"*\"          \"*\"       \"*\"         \"*\"    \"*\"      \"*\"   \" \"  \"*\" \n",
       "26  ( 1 ) \"*\"          \"*\"       \"*\"         \"*\"    \"*\"      \"*\"   \" \"  \"*\" \n",
       "          health\n",
       "1  ( 1 )  \" \"   \n",
       "2  ( 1 )  \" \"   \n",
       "3  ( 1 )  \" \"   \n",
       "4  ( 1 )  \" \"   \n",
       "5  ( 1 )  \" \"   \n",
       "6  ( 1 )  \" \"   \n",
       "7  ( 1 )  \" \"   \n",
       "8  ( 1 )  \" \"   \n",
       "9  ( 1 )  \"*\"   \n",
       "10  ( 1 ) \"*\"   \n",
       "11  ( 1 ) \"*\"   \n",
       "12  ( 1 ) \"*\"   \n",
       "13  ( 1 ) \"*\"   \n",
       "14  ( 1 ) \"*\"   \n",
       "15  ( 1 ) \"*\"   \n",
       "16  ( 1 ) \"*\"   \n",
       "17  ( 1 ) \"*\"   \n",
       "18  ( 1 ) \"*\"   \n",
       "19  ( 1 ) \"*\"   \n",
       "20  ( 1 ) \"*\"   \n",
       "21  ( 1 ) \"*\"   \n",
       "22  ( 1 ) \"*\"   \n",
       "23  ( 1 ) \"*\"   \n",
       "24  ( 1 ) \"*\"   \n",
       "25  ( 1 ) \"*\"   \n",
       "26  ( 1 ) \"*\"   "
      ]
     },
     "metadata": {},
     "output_type": "display_data"
    }
   ],
   "source": [
    "options(repos = c(CRAN = \"https://cran.r-project.org\"))\n",
    "#install.packages(\"leaps\")\n",
    "library(leaps)\n",
    "#install.packages(\"dplyr\")\n",
    "library(dplyr)\n",
    "#setting seed\n",
    "set.seed(3755)\n",
    "\n",
    "# apply best selection on dataset\n",
    "best_selection <- regsubsets(\n",
    "  x =  final_grade ~ ., nvmax = 26 ,\n",
    "  data = filtered_data,\n",
    "  method = \"exhaustive\"\n",
    ")\n",
    "\n",
    "best_selection_summary <- summary(best_selection)\n",
    "best_selection_summary"
   ]
  },
  {
   "cell_type": "code",
   "execution_count": 11,
   "id": "706c22da-9caf-414c-8bc1-bf315a260c9a",
   "metadata": {},
   "outputs": [
    {
     "data": {
      "text/html": [
       "<table class=\"dataframe\">\n",
       "<caption>A tibble: 26 × 4</caption>\n",
       "<thead>\n",
       "\t<tr><th scope=col>n_input_variables</th><th scope=col>RSQ</th><th scope=col>ADJ.R2</th><th scope=col>Cp</th></tr>\n",
       "\t<tr><th scope=col>&lt;int&gt;</th><th scope=col>&lt;dbl&gt;</th><th scope=col>&lt;dbl&gt;</th><th scope=col>&lt;dbl&gt;</th></tr>\n",
       "</thead>\n",
       "<tbody>\n",
       "\t<tr><td> 1</td><td>0.0863366</td><td>0.0837629</td><td>74.853903</td></tr>\n",
       "\t<tr><td> 2</td><td>0.1376316</td><td>0.1327595</td><td>52.833266</td></tr>\n",
       "\t<tr><td> 3</td><td>0.1651606</td><td>0.1580656</td><td>41.941912</td></tr>\n",
       "\t<tr><td> 4</td><td>0.1877458</td><td>0.1785156</td><td>33.365613</td></tr>\n",
       "\t<tr><td> 5</td><td>0.2074541</td><td>0.1961643</td><td>26.136507</td></tr>\n",
       "\t<tr><td> 6</td><td>0.2310119</td><td>0.2178292</td><td>17.104792</td></tr>\n",
       "\t<tr><td> 7</td><td>0.2428399</td><td>0.2276534</td><td>13.565898</td></tr>\n",
       "\t<tr><td> 8</td><td>0.2547166</td><td>0.2375837</td><td>10.004246</td></tr>\n",
       "\t<tr><td> 9</td><td>0.2672009</td><td>0.2481946</td><td> 6.158043</td></tr>\n",
       "\t<tr><td>10</td><td>0.2759773</td><td>0.2550518</td><td> 4.048197</td></tr>\n",
       "\t<tr><td>11</td><td>0.2821276</td><td>0.2592389</td><td> 3.168145</td></tr>\n",
       "\t<tr><td>12</td><td>0.2866508</td><td>0.2617665</td><td> 3.049979</td></tr>\n",
       "\t<tr><td>13</td><td>0.2886138</td><td>0.2616516</td><td> 4.130755</td></tr>\n",
       "\t<tr><td>14</td><td>0.2902368</td><td>0.2611822</td><td> 5.370720</td></tr>\n",
       "\t<tr><td>15</td><td>0.2912516</td><td>0.2600750</td><td> 6.895493</td></tr>\n",
       "\t<tr><td>16</td><td>0.2919916</td><td>0.2586736</td><td> 8.548969</td></tr>\n",
       "\t<tr><td>17</td><td>0.2936532</td><td>0.2582317</td><td> 9.770880</td></tr>\n",
       "\t<tr><td>18</td><td>0.2946251</td><td>0.2570608</td><td>11.315740</td></tr>\n",
       "\t<tr><td>19</td><td>0.2953558</td><td>0.2556280</td><td>12.973591</td></tr>\n",
       "\t<tr><td>20</td><td>0.2957734</td><td>0.2538551</td><td>14.778015</td></tr>\n",
       "\t<tr><td>21</td><td>0.2966740</td><td>0.2525849</td><td>16.356262</td></tr>\n",
       "\t<tr><td>22</td><td>0.2970611</td><td>0.2507597</td><td>18.175019</td></tr>\n",
       "\t<tr><td>23</td><td>0.2972280</td><td>0.2486881</td><td>20.096868</td></tr>\n",
       "\t<tr><td>24</td><td>0.2973389</td><td>0.2465442</td><td>22.044899</td></tr>\n",
       "\t<tr><td>25</td><td>0.2974186</td><td>0.2443535</td><td>24.007612</td></tr>\n",
       "\t<tr><td>26</td><td>0.2974335</td><td>0.2420798</td><td>26.000605</td></tr>\n",
       "</tbody>\n",
       "</table>\n"
      ],
      "text/latex": [
       "A tibble: 26 × 4\n",
       "\\begin{tabular}{llll}\n",
       " n\\_input\\_variables & RSQ & ADJ.R2 & Cp\\\\\n",
       " <int> & <dbl> & <dbl> & <dbl>\\\\\n",
       "\\hline\n",
       "\t  1 & 0.0863366 & 0.0837629 & 74.853903\\\\\n",
       "\t  2 & 0.1376316 & 0.1327595 & 52.833266\\\\\n",
       "\t  3 & 0.1651606 & 0.1580656 & 41.941912\\\\\n",
       "\t  4 & 0.1877458 & 0.1785156 & 33.365613\\\\\n",
       "\t  5 & 0.2074541 & 0.1961643 & 26.136507\\\\\n",
       "\t  6 & 0.2310119 & 0.2178292 & 17.104792\\\\\n",
       "\t  7 & 0.2428399 & 0.2276534 & 13.565898\\\\\n",
       "\t  8 & 0.2547166 & 0.2375837 & 10.004246\\\\\n",
       "\t  9 & 0.2672009 & 0.2481946 &  6.158043\\\\\n",
       "\t 10 & 0.2759773 & 0.2550518 &  4.048197\\\\\n",
       "\t 11 & 0.2821276 & 0.2592389 &  3.168145\\\\\n",
       "\t 12 & 0.2866508 & 0.2617665 &  3.049979\\\\\n",
       "\t 13 & 0.2886138 & 0.2616516 &  4.130755\\\\\n",
       "\t 14 & 0.2902368 & 0.2611822 &  5.370720\\\\\n",
       "\t 15 & 0.2912516 & 0.2600750 &  6.895493\\\\\n",
       "\t 16 & 0.2919916 & 0.2586736 &  8.548969\\\\\n",
       "\t 17 & 0.2936532 & 0.2582317 &  9.770880\\\\\n",
       "\t 18 & 0.2946251 & 0.2570608 & 11.315740\\\\\n",
       "\t 19 & 0.2953558 & 0.2556280 & 12.973591\\\\\n",
       "\t 20 & 0.2957734 & 0.2538551 & 14.778015\\\\\n",
       "\t 21 & 0.2966740 & 0.2525849 & 16.356262\\\\\n",
       "\t 22 & 0.2970611 & 0.2507597 & 18.175019\\\\\n",
       "\t 23 & 0.2972280 & 0.2486881 & 20.096868\\\\\n",
       "\t 24 & 0.2973389 & 0.2465442 & 22.044899\\\\\n",
       "\t 25 & 0.2974186 & 0.2443535 & 24.007612\\\\\n",
       "\t 26 & 0.2974335 & 0.2420798 & 26.000605\\\\\n",
       "\\end{tabular}\n"
      ],
      "text/markdown": [
       "\n",
       "A tibble: 26 × 4\n",
       "\n",
       "| n_input_variables &lt;int&gt; | RSQ &lt;dbl&gt; | ADJ.R2 &lt;dbl&gt; | Cp &lt;dbl&gt; |\n",
       "|---|---|---|---|\n",
       "|  1 | 0.0863366 | 0.0837629 | 74.853903 |\n",
       "|  2 | 0.1376316 | 0.1327595 | 52.833266 |\n",
       "|  3 | 0.1651606 | 0.1580656 | 41.941912 |\n",
       "|  4 | 0.1877458 | 0.1785156 | 33.365613 |\n",
       "|  5 | 0.2074541 | 0.1961643 | 26.136507 |\n",
       "|  6 | 0.2310119 | 0.2178292 | 17.104792 |\n",
       "|  7 | 0.2428399 | 0.2276534 | 13.565898 |\n",
       "|  8 | 0.2547166 | 0.2375837 | 10.004246 |\n",
       "|  9 | 0.2672009 | 0.2481946 |  6.158043 |\n",
       "| 10 | 0.2759773 | 0.2550518 |  4.048197 |\n",
       "| 11 | 0.2821276 | 0.2592389 |  3.168145 |\n",
       "| 12 | 0.2866508 | 0.2617665 |  3.049979 |\n",
       "| 13 | 0.2886138 | 0.2616516 |  4.130755 |\n",
       "| 14 | 0.2902368 | 0.2611822 |  5.370720 |\n",
       "| 15 | 0.2912516 | 0.2600750 |  6.895493 |\n",
       "| 16 | 0.2919916 | 0.2586736 |  8.548969 |\n",
       "| 17 | 0.2936532 | 0.2582317 |  9.770880 |\n",
       "| 18 | 0.2946251 | 0.2570608 | 11.315740 |\n",
       "| 19 | 0.2953558 | 0.2556280 | 12.973591 |\n",
       "| 20 | 0.2957734 | 0.2538551 | 14.778015 |\n",
       "| 21 | 0.2966740 | 0.2525849 | 16.356262 |\n",
       "| 22 | 0.2970611 | 0.2507597 | 18.175019 |\n",
       "| 23 | 0.2972280 | 0.2486881 | 20.096868 |\n",
       "| 24 | 0.2973389 | 0.2465442 | 22.044899 |\n",
       "| 25 | 0.2974186 | 0.2443535 | 24.007612 |\n",
       "| 26 | 0.2974335 | 0.2420798 | 26.000605 |\n",
       "\n"
      ],
      "text/plain": [
       "   n_input_variables RSQ       ADJ.R2    Cp       \n",
       "1   1                0.0863366 0.0837629 74.853903\n",
       "2   2                0.1376316 0.1327595 52.833266\n",
       "3   3                0.1651606 0.1580656 41.941912\n",
       "4   4                0.1877458 0.1785156 33.365613\n",
       "5   5                0.2074541 0.1961643 26.136507\n",
       "6   6                0.2310119 0.2178292 17.104792\n",
       "7   7                0.2428399 0.2276534 13.565898\n",
       "8   8                0.2547166 0.2375837 10.004246\n",
       "9   9                0.2672009 0.2481946  6.158043\n",
       "10 10                0.2759773 0.2550518  4.048197\n",
       "11 11                0.2821276 0.2592389  3.168145\n",
       "12 12                0.2866508 0.2617665  3.049979\n",
       "13 13                0.2886138 0.2616516  4.130755\n",
       "14 14                0.2902368 0.2611822  5.370720\n",
       "15 15                0.2912516 0.2600750  6.895493\n",
       "16 16                0.2919916 0.2586736  8.548969\n",
       "17 17                0.2936532 0.2582317  9.770880\n",
       "18 18                0.2946251 0.2570608 11.315740\n",
       "19 19                0.2953558 0.2556280 12.973591\n",
       "20 20                0.2957734 0.2538551 14.778015\n",
       "21 21                0.2966740 0.2525849 16.356262\n",
       "22 22                0.2970611 0.2507597 18.175019\n",
       "23 23                0.2972280 0.2486881 20.096868\n",
       "24 24                0.2973389 0.2465442 22.044899\n",
       "25 25                0.2974186 0.2443535 24.007612\n",
       "26 26                0.2974335 0.2420798 26.000605"
      ]
     },
     "metadata": {},
     "output_type": "display_data"
    }
   ],
   "source": [
    "# best selection summary table\n",
    "n_vars <- length(best_selection_summary$rsq)\n",
    "\n",
    "best_selection_summary_df <- tibble(\n",
    "    n_input_variables = 1:n_vars,\n",
    "    RSQ = best_selection_summary$rsq,\n",
    "    ADJ.R2 = best_selection_summary$adjr2,\n",
    "    Cp = best_selection_summary$cp,\n",
    ")\n",
    "\n",
    "best_selection_summary_df"
   ]
  },
  {
   "cell_type": "code",
   "execution_count": 12,
   "id": "c7e6947f-c7d1-4e54-b736-dbdfa58b0308",
   "metadata": {},
   "outputs": [],
   "source": [
    "#which.max(best_selection_summary_df$ADJ.R2)"
   ]
  },
  {
   "cell_type": "code",
   "execution_count": null,
   "id": "6aa76fba-f452-4309-ac2b-972cf081f352",
   "metadata": {},
   "outputs": [],
   "source": [
    "#filtered_data <- filtered_data %>%\n",
    "#  filter(Mjob == \"health\")\n",
    "\n",
    "library(dplyr)\n",
    "\n",
    "# Set undesired levels to NA\n",
    "final_filtered_data <- filtered_data %>%\n",
    "\n",
    "  mutate(Mjob = ifelse(Mjob %in% c(\"other\"), NA, Mjob),\n",
    "         Fjob = ifelse(Fjob %in% c(\"health\", \"other\", \"services\"), NA, Fjob))\n",
    "\n",
    "# Drop unused levels\n",
    "#filtered_data$Mjob <- droplevels(filtered_data$Mjob)\n",
    "#filtered_data$Fjob <- droplevels(filtered_data$Fjob)\n",
    "\n",
    "# Check the levels after modification\n",
    "levels(filtered_data$Mjob)\n",
    "levels(filtered_data$Fjob)\n",
    "\n",
    "# Fit the linear model without having to exclude levels explicitly in the formula\n",
    "reduced_linear_model <- lm(final_grade ~ sex + Mjob + Fjob + studytime + failures + schoolsup + goout, \n",
    "            data = filtered_data\n",
    "                          )\n",
    "\n",
    "summary(reduced_linear_model)"
   ]
  },
  {
   "cell_type": "markdown",
   "id": "16e5bed7-b2a5-46ba-90f7-b0793e6027d1",
   "metadata": {},
   "source": [
    "# Analysis: Logistic Regression"
   ]
  },
  {
   "cell_type": "code",
   "execution_count": null,
   "id": "088e9ec6-f727-4d58-914f-1ad199a9860a",
   "metadata": {},
   "outputs": [],
   "source": [
    "binary_data <- data_selected %>%\n",
    "  mutate(pass_fail = ifelse(final_grade >= 10, 1, 0))\n",
    "\n",
    "logistic_model <- glm(pass_fail ~ .-final_grade,                      \n",
    "                      data = binary_data,\n",
    "                      family = binomial)\n",
    "\n",
    "summary(logistic_model)"
   ]
  },
  {
   "cell_type": "code",
   "execution_count": null,
   "id": "631cc755-74b8-4c92-91d2-0e221f037abb",
   "metadata": {},
   "outputs": [],
   "source": [
    "# Calculating deviance and AIC of the logistic model\n",
    "aic <- AIC(logistic_model)\n",
    "deviance <- deviance(logistic_model)\n",
    "\n",
    "print(paste(\"Calculated AIC:\", aic))\n",
    "print(paste(\"Calculated Deviance:\", deviance))"
   ]
  },
  {
   "cell_type": "code",
   "execution_count": null,
   "id": "8949c13a-1846-42d5-8d63-e36518b5a2eb",
   "metadata": {},
   "outputs": [],
   "source": [
    "# Calculating deviance and AIC of the standardized logistic model\n",
    "binary_data_scaled <- binary_data %>%\n",
    "  mutate(across(where(is.numeric), ~ scale(.), .names = \"scaled{.col}\")) %>%\n",
    "  select(-final_grade) \n",
    "\n",
    "logistic_model_scaled <- glm(pass_fail ~ .,\n",
    "                             data = binary_data_scaled,\n",
    "                             family = binomial)\n",
    "\n",
    "scaled_model_aic <- AIC(logistic_model_scaled)\n",
    "scaled_model_deviance <- deviance(logistic_model_scaled)\n",
    "\n",
    "print(paste(\"Calculated AIC for Standardized Model:\", scaled_model_aic))\n",
    "print(paste(\"Calculated Deviance for Standarized Model:\", scaled_model_deviance))"
   ]
  },
  {
   "cell_type": "code",
   "execution_count": null,
   "id": "96782c6c-229e-4745-be61-e7aae579af0a",
   "metadata": {},
   "outputs": [],
   "source": [
    "# AIC and Deviance for null model\n",
    "null_model <- glm(pass_fail ~ 1,\n",
    "                      data = binary_data,\n",
    "                      family = binomial)\n",
    "\n",
    "AIC(null_model)\n",
    "deviance(null_model)"
   ]
  },
  {
   "cell_type": "code",
   "execution_count": null,
   "id": "c5fe87fb-a6cb-45f8-8e32-664482c6900a",
   "metadata": {
    "scrolled": true
   },
   "outputs": [],
   "source": [
    "# VIF for linear and logistic models\n",
    "\n",
    "library(car)\n",
    "vif(logistic_model)\n",
    "vif(linear_model)"
   ]
  },
  {
   "cell_type": "markdown",
   "id": "a22fa1e8-0c22-47bf-ac39-874e100fc625",
   "metadata": {},
   "source": [
    "## Conclusion"
   ]
  },
  {
   "cell_type": "markdown",
   "id": "cef32f7f-0710-49d0-a7c7-de08087cbf20",
   "metadata": {},
   "source": [
    "## Appendix"
   ]
  },
  {
   "cell_type": "markdown",
   "id": "c78acf5d-9ac1-4fea-9796-22ee0291c485",
   "metadata": {},
   "source": [
    "## References"
   ]
  },
  {
   "cell_type": "code",
   "execution_count": null,
   "id": "7e31b49f-494d-4db5-be84-da66c8361688",
   "metadata": {},
   "outputs": [],
   "source": []
  }
 ],
 "metadata": {
  "kernelspec": {
   "display_name": "R",
   "language": "R",
   "name": "ir"
  },
  "language_info": {
   "codemirror_mode": "r",
   "file_extension": ".r",
   "mimetype": "text/x-r-source",
   "name": "R",
   "pygments_lexer": "r",
   "version": "4.3.3"
  }
 },
 "nbformat": 4,
 "nbformat_minor": 5
}
