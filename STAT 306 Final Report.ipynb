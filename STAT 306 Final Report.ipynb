{
 "cells": [
  {
   "cell_type": "markdown",
   "id": "79654151-d64b-4786-9d42-6a15aa389a31",
   "metadata": {},
   "source": [
    "# STAT 306 Group Project #"
   ]
  },
  {
   "cell_type": "markdown",
   "id": "9edbc3cd-eed6-43b4-b203-50533864d152",
   "metadata": {},
   "source": [
    "## Introduction"
   ]
  },
  {
   "cell_type": "markdown",
   "id": "6b13b290-a4bf-4f4f-8c95-8e8f48366a53",
   "metadata": {},
   "source": [
    "The dataset we chose to conduct our analysis is the ‘Student Performance’ dataset obtained from the UC Irvine Machine Learning Repository.  It measures student achievement in secondary education across two Portuguese schools, Gabriel Pereira and Mousinho da Silveira, during the 2005-2006 school year. The dataset consists of 33 variables, including student grades, demographic information, and social and school-related factors, all collected from school reports and questionnaires. Two data files are included in the dataset, one for the subject of Math and one for Portuguese. We chose to focus on the file for ‘Math’, as our group consists of Math and Statistics students and this is more applicable to our fields of study.\n",
    "\n",
    "Variables: \n",
    "- **sex**: Student's sex:  'F' (female) or 'M' (male).\n",
    "- **age**: Student's age, ranging from 15 to 22. \n",
    "- **address**: Student's home address type: 'U' (urban) or 'R' (rural).\n",
    "- **famsize**: Family size: 'LE3' (less or equal to 3) or 'GT3' (greater than 3).\n",
    "- **Pstatus**: Parent's cohabitation status: T' (together) or 'A' (apart).\n",
    "- **Medu**: Mother's education level, coded from 0 (none) to 4 (higher education).\n",
    "- **Fedu**: Father's education level, coded from 0 (none) to 4 (higher education).\n",
    "- **Mjob**: Mother's job, coded as 'teacher', 'health', 'services', 'at_home', or 'other'.\n",
    "- **Fjob**: Father's job, coded as 'teacher', 'health', 'services', 'at_home', or 'other'.\n",
    "- **reason**:Reasons to choose the school, coded as 'home', 'reputation', 'course', or 'other'.\n",
    "- **guardian**: Student's guardian, coded as 'mother', 'father', or 'other'.\n",
    "- **traveltime**: Home to school travel time, coded from 1 (<15 min) to 4 (>1 hour).\n",
    "- **studytime**: Weekly study time, coded from 1 (<2 hours) to 4 (>10 hours).\n",
    "- **failures**: Number of past class failures, coded from 0 (none) to 4 (4 or more).\n",
    "- **school_support**: Extra educational support, coded as 'yes' or 'no'.\n",
    "- **family_support**: Family educational support, coded as 'yes' or 'no'.\n",
    "- **paid**: Extra paid classes within the course subject, coded as 'yes' or 'no'.\n",
    "- **activities**: Participation in extracurricular activities, coded as 'yes' or 'no'.\n",
    "- **nursery**: Attended nursery school, coded as 'yes' or 'no'.\n",
    "- **higher**: Plans for higher education, coded as 'yes' or 'no'.\n",
    "- **internet**: Home internet access, coded as 'yes' or 'no'.\n",
    "- **romantic**:In a romantic relationship, coded as 'yes' or 'no'.\n",
    "- **famrel**: Quality of family relationships, rated from 1 (very bad) to 5 (excellent).\n",
    "- **freetime**: Free time after school, rated from 1 (very low) to 5 (very high).\n",
    "- **goout**: Going out with friends, rated from 1 (very low) to 5 (very high).\n",
    "- **Dalc**: Workday alcohol consumption, rated from 1 (very low) to 5 (very high).\n",
    "- **Walc**: Weekend alcohol consumption, rated from 1 (very low) to 5 (very high).\n",
    "- **health**: Current health status, rated from 1 (very bad) to 5 (very good).\n",
    "- **absences**: Number of school absences, ranging from 0 to 93.\n",
    "- **G3**: Final grade, ranging from 0 to 20 (output target)."
   ]
  },
  {
   "cell_type": "code",
   "execution_count": 1,
   "id": "860ce728-bbd3-4c96-84d9-766b66d01536",
   "metadata": {},
   "outputs": [
    {
     "name": "stderr",
     "output_type": "stream",
     "text": [
      "── \u001b[1mAttaching core tidyverse packages\u001b[22m ──────────────────────── tidyverse 2.0.0 ──\n",
      "\u001b[32m✔\u001b[39m \u001b[34mdplyr    \u001b[39m 1.1.4     \u001b[32m✔\u001b[39m \u001b[34mreadr    \u001b[39m 2.1.5\n",
      "\u001b[32m✔\u001b[39m \u001b[34mforcats  \u001b[39m 1.0.0     \u001b[32m✔\u001b[39m \u001b[34mstringr  \u001b[39m 1.5.1\n",
      "\u001b[32m✔\u001b[39m \u001b[34mggplot2  \u001b[39m 3.5.1     \u001b[32m✔\u001b[39m \u001b[34mtibble   \u001b[39m 3.2.1\n",
      "\u001b[32m✔\u001b[39m \u001b[34mlubridate\u001b[39m 1.9.3     \u001b[32m✔\u001b[39m \u001b[34mtidyr    \u001b[39m 1.3.1\n",
      "\u001b[32m✔\u001b[39m \u001b[34mpurrr    \u001b[39m 1.0.2     \n",
      "── \u001b[1mConflicts\u001b[22m ────────────────────────────────────────── tidyverse_conflicts() ──\n",
      "\u001b[31m✖\u001b[39m \u001b[34mdplyr\u001b[39m::\u001b[32mfilter()\u001b[39m masks \u001b[34mstats\u001b[39m::filter()\n",
      "\u001b[31m✖\u001b[39m \u001b[34mdplyr\u001b[39m::\u001b[32mlag()\u001b[39m    masks \u001b[34mstats\u001b[39m::lag()\n",
      "\u001b[36mℹ\u001b[39m Use the conflicted package (\u001b[3m\u001b[34m<http://conflicted.r-lib.org/>\u001b[39m\u001b[23m) to force all conflicts to become errors\n"
     ]
    }
   ],
   "source": [
    "library(tidyverse)\n",
    "library(dplyr)"
   ]
  },
  {
   "cell_type": "code",
   "execution_count": 2,
   "id": "a48a7c8f-b9b9-4a53-80dd-4ff8bc95a4af",
   "metadata": {},
   "outputs": [
    {
     "name": "stderr",
     "output_type": "stream",
     "text": [
      "Warning message in file(file, \"rt\"):\n",
      "“cannot open file 'student-mat.csv': No such file or directory”\n"
     ]
    },
    {
     "ename": "ERROR",
     "evalue": "Error in file(file, \"rt\"): cannot open the connection\n",
     "output_type": "error",
     "traceback": [
      "Error in file(file, \"rt\"): cannot open the connection\nTraceback:\n",
      "1. read.csv(\"student-mat.csv\", header = TRUE, sep = \";\")",
      "2. read.table(file = file, header = header, sep = sep, quote = quote, \n .     dec = dec, fill = fill, comment.char = comment.char, ...)",
      "3. file(file, \"rt\")"
     ]
    }
   ],
   "source": [
    "data <- read.csv(\"student-mat.csv\", header = TRUE, sep = \";\")\n",
    "head(data)"
   ]
  },
  {
   "cell_type": "markdown",
   "id": "a83973a4-eb55-48d5-b8d6-4e695950c355",
   "metadata": {},
   "source": [
    "### Wrangling the dataset"
   ]
  },
  {
   "cell_type": "code",
   "execution_count": 11,
   "id": "fc7dd051-77f2-4925-a809-d9078154f878",
   "metadata": {},
   "outputs": [
    {
     "data": {
      "text/html": [
       "<table class=\"dataframe\">\n",
       "<caption>A data.frame: 6 × 30</caption>\n",
       "<thead>\n",
       "\t<tr><th></th><th scope=col>sex</th><th scope=col>age</th><th scope=col>address</th><th scope=col>famsize</th><th scope=col>Pstatus</th><th scope=col>Medu</th><th scope=col>Fedu</th><th scope=col>Mjob</th><th scope=col>Fjob</th><th scope=col>reason</th><th scope=col>⋯</th><th scope=col>internet</th><th scope=col>romantic</th><th scope=col>famrel</th><th scope=col>freetime</th><th scope=col>goout</th><th scope=col>Dalc</th><th scope=col>Walc</th><th scope=col>health</th><th scope=col>absences</th><th scope=col>final_grade</th></tr>\n",
       "\t<tr><th></th><th scope=col>&lt;chr&gt;</th><th scope=col>&lt;int&gt;</th><th scope=col>&lt;chr&gt;</th><th scope=col>&lt;chr&gt;</th><th scope=col>&lt;chr&gt;</th><th scope=col>&lt;int&gt;</th><th scope=col>&lt;int&gt;</th><th scope=col>&lt;chr&gt;</th><th scope=col>&lt;chr&gt;</th><th scope=col>&lt;chr&gt;</th><th scope=col>⋯</th><th scope=col>&lt;chr&gt;</th><th scope=col>&lt;chr&gt;</th><th scope=col>&lt;int&gt;</th><th scope=col>&lt;int&gt;</th><th scope=col>&lt;int&gt;</th><th scope=col>&lt;int&gt;</th><th scope=col>&lt;int&gt;</th><th scope=col>&lt;int&gt;</th><th scope=col>&lt;int&gt;</th><th scope=col>&lt;int&gt;</th></tr>\n",
       "</thead>\n",
       "<tbody>\n",
       "\t<tr><th scope=row>1</th><td>F</td><td>18</td><td>U</td><td>GT3</td><td>A</td><td>4</td><td>4</td><td>at_home </td><td>teacher </td><td>course    </td><td>⋯</td><td>no </td><td>no </td><td>4</td><td>3</td><td>4</td><td>1</td><td>1</td><td>3</td><td> 6</td><td> 6</td></tr>\n",
       "\t<tr><th scope=row>2</th><td>F</td><td>17</td><td>U</td><td>GT3</td><td>T</td><td>1</td><td>1</td><td>at_home </td><td>other   </td><td>course    </td><td>⋯</td><td>yes</td><td>no </td><td>5</td><td>3</td><td>3</td><td>1</td><td>1</td><td>3</td><td> 4</td><td> 6</td></tr>\n",
       "\t<tr><th scope=row>3</th><td>F</td><td>15</td><td>U</td><td>LE3</td><td>T</td><td>1</td><td>1</td><td>at_home </td><td>other   </td><td>other     </td><td>⋯</td><td>yes</td><td>no </td><td>4</td><td>3</td><td>2</td><td>2</td><td>3</td><td>3</td><td>10</td><td>10</td></tr>\n",
       "\t<tr><th scope=row>4</th><td>F</td><td>15</td><td>U</td><td>GT3</td><td>T</td><td>4</td><td>2</td><td>health  </td><td>services</td><td>home      </td><td>⋯</td><td>yes</td><td>yes</td><td>3</td><td>2</td><td>2</td><td>1</td><td>1</td><td>5</td><td> 2</td><td>15</td></tr>\n",
       "\t<tr><th scope=row>5</th><td>F</td><td>16</td><td>U</td><td>GT3</td><td>T</td><td>3</td><td>3</td><td>other   </td><td>other   </td><td>home      </td><td>⋯</td><td>no </td><td>no </td><td>4</td><td>3</td><td>2</td><td>1</td><td>2</td><td>5</td><td> 4</td><td>10</td></tr>\n",
       "\t<tr><th scope=row>6</th><td>M</td><td>16</td><td>U</td><td>LE3</td><td>T</td><td>4</td><td>3</td><td>services</td><td>other   </td><td>reputation</td><td>⋯</td><td>yes</td><td>no </td><td>5</td><td>4</td><td>2</td><td>1</td><td>2</td><td>5</td><td>10</td><td>15</td></tr>\n",
       "</tbody>\n",
       "</table>\n"
      ],
      "text/latex": [
       "A data.frame: 6 × 30\n",
       "\\begin{tabular}{r|lllllllllllllllllllll}\n",
       "  & sex & age & address & famsize & Pstatus & Medu & Fedu & Mjob & Fjob & reason & ⋯ & internet & romantic & famrel & freetime & goout & Dalc & Walc & health & absences & final\\_grade\\\\\n",
       "  & <chr> & <int> & <chr> & <chr> & <chr> & <int> & <int> & <chr> & <chr> & <chr> & ⋯ & <chr> & <chr> & <int> & <int> & <int> & <int> & <int> & <int> & <int> & <int>\\\\\n",
       "\\hline\n",
       "\t1 & F & 18 & U & GT3 & A & 4 & 4 & at\\_home  & teacher  & course     & ⋯ & no  & no  & 4 & 3 & 4 & 1 & 1 & 3 &  6 &  6\\\\\n",
       "\t2 & F & 17 & U & GT3 & T & 1 & 1 & at\\_home  & other    & course     & ⋯ & yes & no  & 5 & 3 & 3 & 1 & 1 & 3 &  4 &  6\\\\\n",
       "\t3 & F & 15 & U & LE3 & T & 1 & 1 & at\\_home  & other    & other      & ⋯ & yes & no  & 4 & 3 & 2 & 2 & 3 & 3 & 10 & 10\\\\\n",
       "\t4 & F & 15 & U & GT3 & T & 4 & 2 & health   & services & home       & ⋯ & yes & yes & 3 & 2 & 2 & 1 & 1 & 5 &  2 & 15\\\\\n",
       "\t5 & F & 16 & U & GT3 & T & 3 & 3 & other    & other    & home       & ⋯ & no  & no  & 4 & 3 & 2 & 1 & 2 & 5 &  4 & 10\\\\\n",
       "\t6 & M & 16 & U & LE3 & T & 4 & 3 & services & other    & reputation & ⋯ & yes & no  & 5 & 4 & 2 & 1 & 2 & 5 & 10 & 15\\\\\n",
       "\\end{tabular}\n"
      ],
      "text/markdown": [
       "\n",
       "A data.frame: 6 × 30\n",
       "\n",
       "| <!--/--> | sex &lt;chr&gt; | age &lt;int&gt; | address &lt;chr&gt; | famsize &lt;chr&gt; | Pstatus &lt;chr&gt; | Medu &lt;int&gt; | Fedu &lt;int&gt; | Mjob &lt;chr&gt; | Fjob &lt;chr&gt; | reason &lt;chr&gt; | ⋯ ⋯ | internet &lt;chr&gt; | romantic &lt;chr&gt; | famrel &lt;int&gt; | freetime &lt;int&gt; | goout &lt;int&gt; | Dalc &lt;int&gt; | Walc &lt;int&gt; | health &lt;int&gt; | absences &lt;int&gt; | final_grade &lt;int&gt; |\n",
       "|---|---|---|---|---|---|---|---|---|---|---|---|---|---|---|---|---|---|---|---|---|---|\n",
       "| 1 | F | 18 | U | GT3 | A | 4 | 4 | at_home  | teacher  | course     | ⋯ | no  | no  | 4 | 3 | 4 | 1 | 1 | 3 |  6 |  6 |\n",
       "| 2 | F | 17 | U | GT3 | T | 1 | 1 | at_home  | other    | course     | ⋯ | yes | no  | 5 | 3 | 3 | 1 | 1 | 3 |  4 |  6 |\n",
       "| 3 | F | 15 | U | LE3 | T | 1 | 1 | at_home  | other    | other      | ⋯ | yes | no  | 4 | 3 | 2 | 2 | 3 | 3 | 10 | 10 |\n",
       "| 4 | F | 15 | U | GT3 | T | 4 | 2 | health   | services | home       | ⋯ | yes | yes | 3 | 2 | 2 | 1 | 1 | 5 |  2 | 15 |\n",
       "| 5 | F | 16 | U | GT3 | T | 3 | 3 | other    | other    | home       | ⋯ | no  | no  | 4 | 3 | 2 | 1 | 2 | 5 |  4 | 10 |\n",
       "| 6 | M | 16 | U | LE3 | T | 4 | 3 | services | other    | reputation | ⋯ | yes | no  | 5 | 4 | 2 | 1 | 2 | 5 | 10 | 15 |\n",
       "\n"
      ],
      "text/plain": [
       "  sex age address famsize Pstatus Medu Fedu Mjob     Fjob     reason     ⋯\n",
       "1 F   18  U       GT3     A       4    4    at_home  teacher  course     ⋯\n",
       "2 F   17  U       GT3     T       1    1    at_home  other    course     ⋯\n",
       "3 F   15  U       LE3     T       1    1    at_home  other    other      ⋯\n",
       "4 F   15  U       GT3     T       4    2    health   services home       ⋯\n",
       "5 F   16  U       GT3     T       3    3    other    other    home       ⋯\n",
       "6 M   16  U       LE3     T       4    3    services other    reputation ⋯\n",
       "  internet romantic famrel freetime goout Dalc Walc health absences final_grade\n",
       "1 no       no       4      3        4     1    1    3       6        6         \n",
       "2 yes      no       5      3        3     1    1    3       4        6         \n",
       "3 yes      no       4      3        2     2    3    3      10       10         \n",
       "4 yes      yes      3      2        2     1    1    5       2       15         \n",
       "5 no       no       4      3        2     1    2    5       4       10         \n",
       "6 yes      no       5      4        2     1    2    5      10       15         "
      ]
     },
     "metadata": {},
     "output_type": "display_data"
    }
   ],
   "source": [
    "data <- data |>\n",
    "    mutate(final_grade = G3) |>\n",
    "    select(-school, -G1, -G2, -G3)\n",
    "head(data)"
   ]
  },
  {
   "cell_type": "code",
   "execution_count": 14,
   "id": "413f9638-85c4-464d-9c6c-d9ec9edf382c",
   "metadata": {},
   "outputs": [
    {
     "data": {
      "text/html": [
       "0"
      ],
      "text/latex": [
       "0"
      ],
      "text/markdown": [
       "0"
      ],
      "text/plain": [
       "[1] 0"
      ]
     },
     "metadata": {},
     "output_type": "display_data"
    }
   ],
   "source": [
    "sum(is.na(data))"
   ]
  },
  {
   "cell_type": "markdown",
   "id": "6791bbc8-1223-4546-82d6-19b08a1f5b92",
   "metadata": {},
   "source": [
    "## Exploratory Data Analysis"
   ]
  },
  {
   "cell_type": "code",
   "execution_count": 12,
   "id": "99712d07-fa06-4d6f-ba75-f35c1c78806f",
   "metadata": {},
   "outputs": [
    {
     "data": {
      "image/png": "[encoded data removed]",
      "text/plain": [
       "plot without title"
      ]
     },
     "metadata": {
      "image/png": {
       "height": 360,
       "width": 660
      }
     },
     "output_type": "display_data"
    }
   ],
   "source": [
    "# Create a histogram to visualize the distribution of grades\n",
    "options(repr.plot.width = 11, repr.plot.height = 6)\n",
    "students_grade_dist <- data %>% \n",
    "    ggplot(aes(x = final_grade)) +\n",
    "    geom_histogram(bins = 20) + \n",
    "    labs(x = \"Final Grade\",\n",
    "        title = \"Distribution of Final Grades\",\n",
    "        caption = \"Figure __\") \n",
    "students_grade_dist"
   ]
  },
  {
   "cell_type": "markdown",
   "id": "6a7c806e-8d23-4e56-937f-05c5ae8de3c3",
   "metadata": {},
   "source": [
    "## Fitting Model: Logistic Regression"
   ]
  },
  {
   "cell_type": "markdown",
   "id": "2d172b0f-91f2-43fd-bc07-5a923946d7d0",
   "metadata": {},
   "source": [
    "## Analysis"
   ]
  },
  {
   "cell_type": "markdown",
   "id": "a22fa1e8-0c22-47bf-ac39-874e100fc625",
   "metadata": {},
   "source": [
    "## Conclusion"
   ]
  },
  {
   "cell_type": "markdown",
   "id": "cef32f7f-0710-49d0-a7c7-de08087cbf20",
   "metadata": {},
   "source": [
    "## Appendix"
   ]
  },
  {
   "cell_type": "markdown",
   "id": "c78acf5d-9ac1-4fea-9796-22ee0291c485",
   "metadata": {},
   "source": [
    "## References"
   ]
  },
  {
   "cell_type": "code",
   "execution_count": null,
   "id": "7e31b49f-494d-4db5-be84-da66c8361688",
   "metadata": {},
   "outputs": [],
   "source": []
  }
 ],
 "metadata": {
  "kernelspec": {
   "display_name": "R",
   "language": "R",
   "name": "ir"
  },
  "language_info": {
   "codemirror_mode": "r",
   "file_extension": ".r",
   "mimetype": "text/x-r-source",
   "name": "R",
   "pygments_lexer": "r",
   "version": "4.3.3"
  }
 },
 "nbformat": 4,
 "nbformat_minor": 5
}
