{
 "cells": [
  {
   "cell_type": "markdown",
   "id": "79654151-d64b-4786-9d42-6a15aa389a31",
   "metadata": {},
   "source": [
    "# STAT 306 Group Project #"
   ]
  },
  {
   "cell_type": "markdown",
   "id": "9edbc3cd-eed6-43b4-b203-50533864d152",
   "metadata": {},
   "source": [
    "## Introduction"
   ]
  },
  {
   "cell_type": "markdown",
   "id": "6b13b290-a4bf-4f4f-8c95-8e8f48366a53",
   "metadata": {},
   "source": [
    "The dataset we chose to conduct our analysis is the ‘Student Performance’ dataset obtained from the UC Irvine Machine Learning Repository.  It measures student achievement in secondary education across two Portuguese schools, Gabriel Pereira and Mousinho da Silveira, during the 2005-2006 school year. The dataset consists of 33 variables, including student grades, demographic information, and social and school-related factors, all collected from school reports and questionnaires. Two data files are included in the dataset, one for the subject of Math and one for Portuguese. We chose to focus on the file for ‘Math’, as our group consists of Math and Statistics students and this is more applicable to our fields of study.\n",
    "\n",
    "Variables: \n",
    "- **sex**: Student's sex:  'F' (female) or 'M' (male).\n",
    "- **age**: Student's age, ranging from 15 to 22. \n",
    "- **address**: Student's home address type: 'U' (urban) or 'R' (rural).\n",
    "- **famsize**: Family size: 'LE3' (less or equal to 3) or 'GT3' (greater than 3).\n",
    "- **Pstatus**: Parent's cohabitation status: T' (together) or 'A' (apart).\n",
    "- **Medu**: Mother's education level, coded from 0 (none) to 4 (higher education).\n",
    "- **Fedu**: Father's education level, coded from 0 (none) to 4 (higher education).\n",
    "- **Mjob**: Mother's job, coded as 'teacher', 'health', 'services', 'at_home', or 'other'.\n",
    "- **Fjob**: Father's job, coded as 'teacher', 'health', 'services', 'at_home', or 'other'.\n",
    "- **reason**:Reasons to choose the school, coded as 'home', 'reputation', 'course', or 'other'.\n",
    "- **guardian**: Student's guardian, coded as 'mother', 'father', or 'other'.\n",
    "- **traveltime**: Home to school travel time, coded from 1 (<15 min) to 4 (>1 hour).\n",
    "- **studytime**: Weekly study time, coded from 1 (<2 hours) to 4 (>10 hours).\n",
    "- **failures**: Number of past class failures, coded from 0 (none) to 4 (4 or more).\n",
    "- **school_support**: Extra educational support, coded as 'yes' or 'no'.\n",
    "- **family_support**: Family educational support, coded as 'yes' or 'no'.\n",
    "- **paid**: Extra paid classes within the course subject, coded as 'yes' or 'no'.\n",
    "- **activities**: Participation in extracurricular activities, coded as 'yes' or 'no'.\n",
    "- **nursery**: Attended nursery school, coded as 'yes' or 'no'.\n",
    "- **higher**: Plans for higher education, coded as 'yes' or 'no'.\n",
    "- **internet**: Home internet access, coded as 'yes' or 'no'.\n",
    "- **romantic**:In a romantic relationship, coded as 'yes' or 'no'.\n",
    "- **famrel**: Quality of family relationships, rated from 1 (very bad) to 5 (excellent).\n",
    "- **freetime**: Free time after school, rated from 1 (very low) to 5 (very high).\n",
    "- **goout**: Going out with friends, rated from 1 (very low) to 5 (very high).\n",
    "- **Dalc**: Workday alcohol consumption, rated from 1 (very low) to 5 (very high).\n",
    "- **Walc**: Weekend alcohol consumption, rated from 1 (very low) to 5 (very high).\n",
    "- **health**: Current health status, rated from 1 (very bad) to 5 (very good).\n",
    "- **absences**: Number of school absences, ranging from 0 to 93.\n",
    "- **G3**: Final grade, ranging from 0 to 20 (output target).\n",
    "\n",
    "Note: We have excluded the variables 'school' (name of school; included as part of background of data) and 'G1' and 'G2' (first and second period grade; G3 is a function of G1 and G2 so they are strongly correlated).\n",
    "\n",
    "As students ourselves, naturally we are interested in understanding the factors that contribute to academic success, and how our backgrounds and choices influence our performance. As such, this dataset caught our eye, as it can provide insight into our own lives and our academic careers. This leads us to our research question:\n",
    "\n",
    "<center>What external factors are associated with a student’s academic performance?</center>\n",
    "\n"
   ]
  },
  {
   "cell_type": "code",
   "execution_count": 1,
   "id": "860ce728-bbd3-4c96-84d9-766b66d01536",
   "metadata": {},
   "outputs": [
    {
     "name": "stderr",
     "output_type": "stream",
     "text": [
      "── \u001b[1mAttaching core tidyverse packages\u001b[22m ──────────────────────── tidyverse 2.0.0 ──\n",
      "\u001b[32m✔\u001b[39m \u001b[34mdplyr    \u001b[39m 1.1.4     \u001b[32m✔\u001b[39m \u001b[34mreadr    \u001b[39m 2.1.5\n",
      "\u001b[32m✔\u001b[39m \u001b[34mforcats  \u001b[39m 1.0.0     \u001b[32m✔\u001b[39m \u001b[34mstringr  \u001b[39m 1.5.1\n",
      "\u001b[32m✔\u001b[39m \u001b[34mggplot2  \u001b[39m 3.5.1     \u001b[32m✔\u001b[39m \u001b[34mtibble   \u001b[39m 3.2.1\n",
      "\u001b[32m✔\u001b[39m \u001b[34mlubridate\u001b[39m 1.9.3     \u001b[32m✔\u001b[39m \u001b[34mtidyr    \u001b[39m 1.3.1\n",
      "\u001b[32m✔\u001b[39m \u001b[34mpurrr    \u001b[39m 1.0.2     \n",
      "── \u001b[1mConflicts\u001b[22m ────────────────────────────────────────── tidyverse_conflicts() ──\n",
      "\u001b[31m✖\u001b[39m \u001b[34mdplyr\u001b[39m::\u001b[32mfilter()\u001b[39m masks \u001b[34mstats\u001b[39m::filter()\n",
      "\u001b[31m✖\u001b[39m \u001b[34mdplyr\u001b[39m::\u001b[32mlag()\u001b[39m    masks \u001b[34mstats\u001b[39m::lag()\n",
      "\u001b[36mℹ\u001b[39m Use the conflicted package (\u001b[3m\u001b[34m<http://conflicted.r-lib.org/>\u001b[39m\u001b[23m) to force all conflicts to become errors\n"
     ]
    }
   ],
   "source": [
    "# Import libraries\n",
    "library(tidyverse)\n",
    "library(dplyr)\n",
    "library(ggplot2)"
   ]
  },
  {
   "cell_type": "code",
   "execution_count": 2,
   "id": "a48a7c8f-b9b9-4a53-80dd-4ff8bc95a4af",
   "metadata": {},
   "outputs": [],
   "source": [
    "# Read the dataset\n",
    "data <- read.csv(\"student-mat.csv\", header = TRUE, sep = \";\")\n",
    "#head(data)"
   ]
  },
  {
   "cell_type": "code",
   "execution_count": 3,
   "id": "fc7dd051-77f2-4925-a809-d9078154f878",
   "metadata": {},
   "outputs": [
    {
     "data": {
      "text/html": [
       "<table class=\"dataframe\">\n",
       "<caption>A data.frame: 6 × 30</caption>\n",
       "<thead>\n",
       "\t<tr><th></th><th scope=col>sex</th><th scope=col>age</th><th scope=col>address</th><th scope=col>famsize</th><th scope=col>Pstatus</th><th scope=col>Medu</th><th scope=col>Fedu</th><th scope=col>Mjob</th><th scope=col>Fjob</th><th scope=col>reason</th><th scope=col>⋯</th><th scope=col>internet</th><th scope=col>romantic</th><th scope=col>famrel</th><th scope=col>freetime</th><th scope=col>goout</th><th scope=col>Dalc</th><th scope=col>Walc</th><th scope=col>health</th><th scope=col>absences</th><th scope=col>final_grade</th></tr>\n",
       "\t<tr><th></th><th scope=col>&lt;chr&gt;</th><th scope=col>&lt;int&gt;</th><th scope=col>&lt;chr&gt;</th><th scope=col>&lt;chr&gt;</th><th scope=col>&lt;chr&gt;</th><th scope=col>&lt;int&gt;</th><th scope=col>&lt;int&gt;</th><th scope=col>&lt;chr&gt;</th><th scope=col>&lt;chr&gt;</th><th scope=col>&lt;chr&gt;</th><th scope=col>⋯</th><th scope=col>&lt;chr&gt;</th><th scope=col>&lt;chr&gt;</th><th scope=col>&lt;int&gt;</th><th scope=col>&lt;int&gt;</th><th scope=col>&lt;int&gt;</th><th scope=col>&lt;int&gt;</th><th scope=col>&lt;int&gt;</th><th scope=col>&lt;int&gt;</th><th scope=col>&lt;int&gt;</th><th scope=col>&lt;int&gt;</th></tr>\n",
       "</thead>\n",
       "<tbody>\n",
       "\t<tr><th scope=row>1</th><td>F</td><td>18</td><td>U</td><td>GT3</td><td>A</td><td>4</td><td>4</td><td>at_home </td><td>teacher </td><td>course    </td><td>⋯</td><td>no </td><td>no </td><td>4</td><td>3</td><td>4</td><td>1</td><td>1</td><td>3</td><td> 6</td><td> 6</td></tr>\n",
       "\t<tr><th scope=row>2</th><td>F</td><td>17</td><td>U</td><td>GT3</td><td>T</td><td>1</td><td>1</td><td>at_home </td><td>other   </td><td>course    </td><td>⋯</td><td>yes</td><td>no </td><td>5</td><td>3</td><td>3</td><td>1</td><td>1</td><td>3</td><td> 4</td><td> 6</td></tr>\n",
       "\t<tr><th scope=row>3</th><td>F</td><td>15</td><td>U</td><td>LE3</td><td>T</td><td>1</td><td>1</td><td>at_home </td><td>other   </td><td>other     </td><td>⋯</td><td>yes</td><td>no </td><td>4</td><td>3</td><td>2</td><td>2</td><td>3</td><td>3</td><td>10</td><td>10</td></tr>\n",
       "\t<tr><th scope=row>4</th><td>F</td><td>15</td><td>U</td><td>GT3</td><td>T</td><td>4</td><td>2</td><td>health  </td><td>services</td><td>home      </td><td>⋯</td><td>yes</td><td>yes</td><td>3</td><td>2</td><td>2</td><td>1</td><td>1</td><td>5</td><td> 2</td><td>15</td></tr>\n",
       "\t<tr><th scope=row>5</th><td>F</td><td>16</td><td>U</td><td>GT3</td><td>T</td><td>3</td><td>3</td><td>other   </td><td>other   </td><td>home      </td><td>⋯</td><td>no </td><td>no </td><td>4</td><td>3</td><td>2</td><td>1</td><td>2</td><td>5</td><td> 4</td><td>10</td></tr>\n",
       "\t<tr><th scope=row>6</th><td>M</td><td>16</td><td>U</td><td>LE3</td><td>T</td><td>4</td><td>3</td><td>services</td><td>other   </td><td>reputation</td><td>⋯</td><td>yes</td><td>no </td><td>5</td><td>4</td><td>2</td><td>1</td><td>2</td><td>5</td><td>10</td><td>15</td></tr>\n",
       "</tbody>\n",
       "</table>\n"
      ],
      "text/latex": [
       "A data.frame: 6 × 30\n",
       "\\begin{tabular}{r|lllllllllllllllllllll}\n",
       "  & sex & age & address & famsize & Pstatus & Medu & Fedu & Mjob & Fjob & reason & ⋯ & internet & romantic & famrel & freetime & goout & Dalc & Walc & health & absences & final\\_grade\\\\\n",
       "  & <chr> & <int> & <chr> & <chr> & <chr> & <int> & <int> & <chr> & <chr> & <chr> & ⋯ & <chr> & <chr> & <int> & <int> & <int> & <int> & <int> & <int> & <int> & <int>\\\\\n",
       "\\hline\n",
       "\t1 & F & 18 & U & GT3 & A & 4 & 4 & at\\_home  & teacher  & course     & ⋯ & no  & no  & 4 & 3 & 4 & 1 & 1 & 3 &  6 &  6\\\\\n",
       "\t2 & F & 17 & U & GT3 & T & 1 & 1 & at\\_home  & other    & course     & ⋯ & yes & no  & 5 & 3 & 3 & 1 & 1 & 3 &  4 &  6\\\\\n",
       "\t3 & F & 15 & U & LE3 & T & 1 & 1 & at\\_home  & other    & other      & ⋯ & yes & no  & 4 & 3 & 2 & 2 & 3 & 3 & 10 & 10\\\\\n",
       "\t4 & F & 15 & U & GT3 & T & 4 & 2 & health   & services & home       & ⋯ & yes & yes & 3 & 2 & 2 & 1 & 1 & 5 &  2 & 15\\\\\n",
       "\t5 & F & 16 & U & GT3 & T & 3 & 3 & other    & other    & home       & ⋯ & no  & no  & 4 & 3 & 2 & 1 & 2 & 5 &  4 & 10\\\\\n",
       "\t6 & M & 16 & U & LE3 & T & 4 & 3 & services & other    & reputation & ⋯ & yes & no  & 5 & 4 & 2 & 1 & 2 & 5 & 10 & 15\\\\\n",
       "\\end{tabular}\n"
      ],
      "text/markdown": [
       "\n",
       "A data.frame: 6 × 30\n",
       "\n",
       "| <!--/--> | sex &lt;chr&gt; | age &lt;int&gt; | address &lt;chr&gt; | famsize &lt;chr&gt; | Pstatus &lt;chr&gt; | Medu &lt;int&gt; | Fedu &lt;int&gt; | Mjob &lt;chr&gt; | Fjob &lt;chr&gt; | reason &lt;chr&gt; | ⋯ ⋯ | internet &lt;chr&gt; | romantic &lt;chr&gt; | famrel &lt;int&gt; | freetime &lt;int&gt; | goout &lt;int&gt; | Dalc &lt;int&gt; | Walc &lt;int&gt; | health &lt;int&gt; | absences &lt;int&gt; | final_grade &lt;int&gt; |\n",
       "|---|---|---|---|---|---|---|---|---|---|---|---|---|---|---|---|---|---|---|---|---|---|\n",
       "| 1 | F | 18 | U | GT3 | A | 4 | 4 | at_home  | teacher  | course     | ⋯ | no  | no  | 4 | 3 | 4 | 1 | 1 | 3 |  6 |  6 |\n",
       "| 2 | F | 17 | U | GT3 | T | 1 | 1 | at_home  | other    | course     | ⋯ | yes | no  | 5 | 3 | 3 | 1 | 1 | 3 |  4 |  6 |\n",
       "| 3 | F | 15 | U | LE3 | T | 1 | 1 | at_home  | other    | other      | ⋯ | yes | no  | 4 | 3 | 2 | 2 | 3 | 3 | 10 | 10 |\n",
       "| 4 | F | 15 | U | GT3 | T | 4 | 2 | health   | services | home       | ⋯ | yes | yes | 3 | 2 | 2 | 1 | 1 | 5 |  2 | 15 |\n",
       "| 5 | F | 16 | U | GT3 | T | 3 | 3 | other    | other    | home       | ⋯ | no  | no  | 4 | 3 | 2 | 1 | 2 | 5 |  4 | 10 |\n",
       "| 6 | M | 16 | U | LE3 | T | 4 | 3 | services | other    | reputation | ⋯ | yes | no  | 5 | 4 | 2 | 1 | 2 | 5 | 10 | 15 |\n",
       "\n"
      ],
      "text/plain": [
       "  sex age address famsize Pstatus Medu Fedu Mjob     Fjob     reason     ⋯\n",
       "1 F   18  U       GT3     A       4    4    at_home  teacher  course     ⋯\n",
       "2 F   17  U       GT3     T       1    1    at_home  other    course     ⋯\n",
       "3 F   15  U       LE3     T       1    1    at_home  other    other      ⋯\n",
       "4 F   15  U       GT3     T       4    2    health   services home       ⋯\n",
       "5 F   16  U       GT3     T       3    3    other    other    home       ⋯\n",
       "6 M   16  U       LE3     T       4    3    services other    reputation ⋯\n",
       "  internet romantic famrel freetime goout Dalc Walc health absences final_grade\n",
       "1 no       no       4      3        4     1    1    3       6        6         \n",
       "2 yes      no       5      3        3     1    1    3       4        6         \n",
       "3 yes      no       4      3        2     2    3    3      10       10         \n",
       "4 yes      yes      3      2        2     1    1    5       2       15         \n",
       "5 no       no       4      3        2     1    2    5       4       10         \n",
       "6 yes      no       5      4        2     1    2    5      10       15         "
      ]
     },
     "metadata": {},
     "output_type": "display_data"
    }
   ],
   "source": [
    "# Wrangling the dataset\n",
    "# data <- data |>\n",
    "#     mutate(final_grade = G3, age = as.factor(age), Medu = as.factor(Medu), Fedu = as.factor(Fedu), traveltime = as.factor(traveltime), studytime = as.factor(studytime), \n",
    "#           failures = as.factor(failures), romantic = as.factor(romantic), famrel = as.factor(famrel), freetime = as.factor(freetime), goout = as.factor(goout), \n",
    "#            Dalc = as.factor(Dalc), Walc = as.factor(Walc), health = as.factor(health)) |>\n",
    "#     select(-school, -G1, -G2, -G3)\n",
    "# head(data)\n",
    "\n",
    "# Wrangling the dataset\n",
    "data <- data |>\n",
    "    rename(final_grade = G3) |> # Rename G3 to final_grade\n",
    "    select(-school, -G1, -G2)\n",
    "#head(data)\n",
    "\n",
    "# Filter the data to exclude rows where final_grade = 0\n",
    "filtered_data <- data %>% filter(final_grade > 0)\n",
    "head(filtered_data)"
   ]
  },
  {
   "cell_type": "code",
   "execution_count": 4,
   "id": "413f9638-85c4-464d-9c6c-d9ec9edf382c",
   "metadata": {},
   "outputs": [
    {
     "data": {
      "text/html": [
       "0"
      ],
      "text/latex": [
       "0"
      ],
      "text/markdown": [
       "0"
      ],
      "text/plain": [
       "[1] 0"
      ]
     },
     "metadata": {},
     "output_type": "display_data"
    }
   ],
   "source": [
    "sum(is.na(data))"
   ]
  },
  {
   "cell_type": "markdown",
   "id": "6791bbc8-1223-4546-82d6-19b08a1f5b92",
   "metadata": {},
   "source": [
    "## Exploratory Data Analysis"
   ]
  },
  {
   "cell_type": "code",
   "execution_count": 5,
   "id": "f9a03429-7100-4e71-98a2-8da93e139717",
   "metadata": {},
   "outputs": [
    {
     "name": "stderr",
     "output_type": "stream",
     "text": [
      "Warning message:\n",
      "“\u001b[1m\u001b[22m`aes_string()` was deprecated in ggplot2 3.0.0.\n",
      "\u001b[36mℹ\u001b[39m Please use tidy evaluation idioms with `aes()`.\n",
      "\u001b[36mℹ\u001b[39m See also `vignette(\"ggplot2-in-packages\")` for more information.”\n"
     ]
    }
   ],
   "source": [
    "##VISUALIZATION\n",
    "\n",
    "# Assuming your dataset is named `data`\n",
    "# Identify categorical and continuous variables\n",
    "categorical_vars <- c(\"sex\", \"address\", \"famsize\", \"Pstatus\", \"Mjob\", \"Fjob\", \"reason\", \"guardian\", \"schoolsup\", \"famsup\", \"paid\", \"activities\", \"nursery\", \"higher\", \"internet\", \n",
    "                      \"age\", \"Medu\", \"Fedu\", \"traveltime\", \"studytime\", \"failures\", \"romantic\", \"famrel\", \"freetime\", \"goout\", \"Dalc\", \"Walc\", \"health\")\n",
    "# continuous_vars <- c(\"age\", \"Medu\", \"Fedu\", \"traveltime\", \"studytime\", \"failures\", \"romantic\", \"famrel\", \"freetime\", \"goout\", \"Dalc\", \"Walc\", \"health\", \"absences\")\n",
    "\n",
    "\n",
    "\n",
    "# Choose a response variable (e.g., G3)\n",
    "response_var <- \"final_grade\"\n",
    "\n",
    "# Create boxplots for categorical variables\n",
    "boxplots <- lapply(categorical_vars, function(var) {\n",
    "  ggplot(data, aes_string(x = var, y = response_var)) +\n",
    "    geom_boxplot() +\n",
    "    theme_minimal() +\n",
    "    ggtitle(paste(\"Boxplot of\", response_var, \"by\", var))\n",
    "})\n",
    "\n",
    "# Combine all plots\n",
    "all_plots <- c(boxplots)\n",
    "\n",
    "scatterplot <- ggplot(data, aes(x = absences, y = final_grade)) +\n",
    "    geom_point(alpha = 0.7) +\n",
    "    ggtitle(paste(\"Scatterplot of\", response_var, \"vs absences\"))\n"
   ]
  },
  {
   "cell_type": "code",
   "execution_count": 6,
   "id": "99712d07-fa06-4d6f-ba75-f35c1c78806f",
   "metadata": {},
   "outputs": [
    {
     "data": {
      "image/png": "[encoded data removed]",
      "text/plain": [
       "plot without title"
      ]
     },
     "metadata": {
      "image/png": {
       "height": 360,
       "width": 660
      }
     },
     "output_type": "display_data"
    }
   ],
   "source": [
    "# Create a histogram to visualize the distribution of grades\n",
    "options(repr.plot.width = 11, repr.plot.height = 6)\n",
    "students_grade_dist <- data %>% \n",
    "    ggplot(aes(x = final_grade)) +\n",
    "    geom_histogram(binwidth = 1) + \n",
    "    labs(x = \"Final Grade\",\n",
    "        title = \"Distribution of Final Grades\",\n",
    "        caption = \"Figure __\") \n",
    "students_grade_dist"
   ]
  },
  {
   "cell_type": "code",
   "execution_count": 7,
   "id": "a3927053-b06d-47a8-9ab6-ae8ea9c9e264",
   "metadata": {},
   "outputs": [
    {
     "name": "stderr",
     "output_type": "stream",
     "text": [
      "Warning message:\n",
      "“\u001b[1m\u001b[22mRemoved 2 rows containing missing values or values outside the scale range\n",
      "(`geom_bar()`).”\n"
     ]
    },
    {
     "data": {
      "image/png": "[encoded data removed]",
      "text/plain": [
       "plot without title"
      ]
     },
     "metadata": {
      "image/png": {
       "height": 360,
       "width": 660
      }
     },
     "output_type": "display_data"
    }
   ],
   "source": [
    "# Create a histogram to visualize the distribution of grades\n",
    "options(repr.plot.width = 11, repr.plot.height = 6)\n",
    "students_grade_dist_new <- data %>% \n",
    "    ggplot(aes(x = final_grade)) +\n",
    "    geom_histogram(binwidth = 1) + \n",
    "    scale_x_continuous(limits = c(0,20)) +\n",
    "    labs(x = \"Final Grade\",\n",
    "        title = \"Distribution of Final Grades\",\n",
    "        caption = \"Figure __\") \n",
    "students_grade_dist_new"
   ]
  },
  {
   "cell_type": "markdown",
   "id": "6a7c806e-8d23-4e56-937f-05c5ae8de3c3",
   "metadata": {},
   "source": [
    "## Fitting Linear Model: Multiple Linear Regression"
   ]
  },
  {
   "cell_type": "code",
   "execution_count": 8,
   "id": "25fa42af-14bf-4af8-bde1-6124617d3aa2",
   "metadata": {},
   "outputs": [
    {
     "data": {
      "text/plain": [
       "\n",
       "Call:\n",
       "lm(formula = final_grade ~ ., data = data_selected)\n",
       "\n",
       "Residuals:\n",
       "     Min       1Q   Median       3Q      Max \n",
       "-13.3309  -1.7507   0.4554   2.6200   8.8291 \n",
       "\n",
       "Coefficients:\n",
       "               Estimate Std. Error t value Pr(>|t|)    \n",
       "(Intercept)     12.1518     4.2894   2.833  0.00487 ** \n",
       "sexM             1.2584     0.4842   2.599  0.00973 ** \n",
       "age             -0.2492     0.2003  -1.244  0.21430    \n",
       "addressU         0.4399     0.5627   0.782  0.43489    \n",
       "Medu             0.4493     0.3159   1.422  0.15577    \n",
       "Fedu            -0.2129     0.2759  -0.772  0.44086    \n",
       "Mjobhealth       1.1782     1.1068   1.064  0.28781    \n",
       "Mjobother       -0.1237     0.7070  -0.175  0.86126    \n",
       "Mjobservices     0.9920     0.7909   1.254  0.21054    \n",
       "Mjobteacher     -0.9398     1.0227  -0.919  0.35874    \n",
       "Fjobhealth       0.7658     1.4280   0.536  0.59209    \n",
       "Fjobother       -0.5251     1.0187  -0.515  0.60654    \n",
       "Fjobservices    -0.3611     1.0520  -0.343  0.73160    \n",
       "Fjobteacher      1.2752     1.2831   0.994  0.32092    \n",
       "guardianmother   0.1409     0.5430   0.259  0.79543    \n",
       "guardianother    0.7638     0.9742   0.784  0.43352    \n",
       "traveltime      -0.2678     0.3315  -0.808  0.41970    \n",
       "studytime        0.3856     0.2801   1.376  0.16954    \n",
       "failures        -1.8713     0.3304  -5.664 2.99e-08 ***\n",
       "schoolsupyes    -1.3234     0.6654  -1.989  0.04746 *  \n",
       "higheryes        1.5361     1.0568   1.453  0.14694    \n",
       "internetyes      0.3813     0.6067   0.628  0.53012    \n",
       "famrel           0.2568     0.2462   1.043  0.29761    \n",
       "freetime         0.2341     0.2345   0.998  0.31888    \n",
       "goout           -0.6477     0.2246  -2.884  0.00416 ** \n",
       "Dalc            -0.2001     0.3271  -0.612  0.54119    \n",
       "Walc             0.3759     0.2455   1.531  0.12664    \n",
       "health          -0.2775     0.1583  -1.753  0.08046 .  \n",
       "---\n",
       "Signif. codes:  0 ‘***’ 0.001 ‘**’ 0.01 ‘*’ 0.05 ‘.’ 0.1 ‘ ’ 1\n",
       "\n",
       "Residual standard error: 4.142 on 367 degrees of freedom\n",
       "Multiple R-squared:  0.2386,\tAdjusted R-squared:  0.1826 \n",
       "F-statistic: 4.259 on 27 and 367 DF,  p-value: 7.235e-11\n"
      ]
     },
     "metadata": {},
     "output_type": "display_data"
    }
   ],
   "source": [
    "data_selected <- data |>\n",
    "    select(-famsize, -Pstatus, -reason, -famsup, -paid, -activities, -nursery, -romantic, -absences)\n",
    "\n",
    "model <- lm(final_grade ~. , data = data_selected)\n",
    "summary <- summary(model)\n",
    "summary"
   ]
  },
  {
   "cell_type": "markdown",
   "id": "2d172b0f-91f2-43fd-bc07-5a923946d7d0",
   "metadata": {},
   "source": [
    "## Analysis : Best Subset Selection"
   ]
  },
  {
   "cell_type": "code",
   "execution_count": 17,
   "id": "60a490d9-5884-4bed-a8ed-12882cd17ea7",
   "metadata": {},
   "outputs": [
    {
     "name": "stderr",
     "output_type": "stream",
     "text": [
      "Installing package into ‘/home/jupyter/R/x86_64-pc-linux-gnu-library/4.3’\n",
      "(as ‘lib’ is unspecified)\n",
      "\n",
      "Installing package into ‘/home/jupyter/R/x86_64-pc-linux-gnu-library/4.3’\n",
      "(as ‘lib’ is unspecified)\n",
      "\n"
     ]
    },
    {
     "data": {
      "text/plain": [
       "Subset selection object\n",
       "Call: regsubsets.formula(x = final_grade ~ ., nvmax = 26, data = data_selected, \n",
       "    method = \"exhaustive\")\n",
       "27 Variables  (and intercept)\n",
       "               Forced in Forced out\n",
       "sexM               FALSE      FALSE\n",
       "age                FALSE      FALSE\n",
       "addressU           FALSE      FALSE\n",
       "Medu               FALSE      FALSE\n",
       "Fedu               FALSE      FALSE\n",
       "Mjobhealth         FALSE      FALSE\n",
       "Mjobother          FALSE      FALSE\n",
       "Mjobservices       FALSE      FALSE\n",
       "Mjobteacher        FALSE      FALSE\n",
       "Fjobhealth         FALSE      FALSE\n",
       "Fjobother          FALSE      FALSE\n",
       "Fjobservices       FALSE      FALSE\n",
       "Fjobteacher        FALSE      FALSE\n",
       "guardianmother     FALSE      FALSE\n",
       "guardianother      FALSE      FALSE\n",
       "traveltime         FALSE      FALSE\n",
       "studytime          FALSE      FALSE\n",
       "failures           FALSE      FALSE\n",
       "schoolsupyes       FALSE      FALSE\n",
       "higheryes          FALSE      FALSE\n",
       "internetyes        FALSE      FALSE\n",
       "famrel             FALSE      FALSE\n",
       "freetime           FALSE      FALSE\n",
       "goout              FALSE      FALSE\n",
       "Dalc               FALSE      FALSE\n",
       "Walc               FALSE      FALSE\n",
       "health             FALSE      FALSE\n",
       "1 subsets of each size up to 26\n",
       "Selection Algorithm: exhaustive\n",
       "          sexM age addressU Medu Fedu Mjobhealth Mjobother Mjobservices\n",
       "1  ( 1 )  \" \"  \" \" \" \"      \" \"  \" \"  \" \"        \" \"       \" \"         \n",
       "2  ( 1 )  \" \"  \" \" \" \"      \"*\"  \" \"  \" \"        \" \"       \" \"         \n",
       "3  ( 1 )  \"*\"  \" \" \" \"      \"*\"  \" \"  \" \"        \" \"       \" \"         \n",
       "4  ( 1 )  \"*\"  \" \" \" \"      \" \"  \" \"  \"*\"        \" \"       \"*\"         \n",
       "5  ( 1 )  \"*\"  \" \" \" \"      \" \"  \" \"  \"*\"        \" \"       \"*\"         \n",
       "6  ( 1 )  \"*\"  \" \" \" \"      \"*\"  \" \"  \"*\"        \" \"       \"*\"         \n",
       "7  ( 1 )  \"*\"  \" \" \" \"      \"*\"  \" \"  \"*\"        \" \"       \"*\"         \n",
       "8  ( 1 )  \"*\"  \" \" \" \"      \"*\"  \" \"  \"*\"        \" \"       \"*\"         \n",
       "9  ( 1 )  \"*\"  \" \" \" \"      \"*\"  \" \"  \"*\"        \" \"       \"*\"         \n",
       "10  ( 1 ) \"*\"  \" \" \" \"      \" \"  \" \"  \"*\"        \" \"       \"*\"         \n",
       "11  ( 1 ) \"*\"  \" \" \"*\"      \" \"  \" \"  \"*\"        \" \"       \"*\"         \n",
       "12  ( 1 ) \"*\"  \"*\" \"*\"      \" \"  \" \"  \"*\"        \" \"       \"*\"         \n",
       "13  ( 1 ) \"*\"  \"*\" \"*\"      \" \"  \" \"  \"*\"        \" \"       \"*\"         \n",
       "14  ( 1 ) \"*\"  \"*\" \"*\"      \" \"  \" \"  \"*\"        \" \"       \"*\"         \n",
       "15  ( 1 ) \"*\"  \"*\" \"*\"      \"*\"  \" \"  \"*\"        \" \"       \"*\"         \n",
       "16  ( 1 ) \"*\"  \"*\" \"*\"      \"*\"  \" \"  \"*\"        \" \"       \"*\"         \n",
       "17  ( 1 ) \"*\"  \"*\" \"*\"      \"*\"  \" \"  \"*\"        \" \"       \"*\"         \n",
       "18  ( 1 ) \"*\"  \"*\" \"*\"      \"*\"  \" \"  \"*\"        \" \"       \"*\"         \n",
       "19  ( 1 ) \"*\"  \"*\" \"*\"      \"*\"  \" \"  \"*\"        \" \"       \"*\"         \n",
       "20  ( 1 ) \"*\"  \"*\" \"*\"      \"*\"  \"*\"  \"*\"        \" \"       \"*\"         \n",
       "21  ( 1 ) \"*\"  \"*\" \"*\"      \"*\"  \"*\"  \"*\"        \" \"       \"*\"         \n",
       "22  ( 1 ) \"*\"  \"*\" \"*\"      \"*\"  \"*\"  \"*\"        \" \"       \"*\"         \n",
       "23  ( 1 ) \"*\"  \"*\" \"*\"      \"*\"  \"*\"  \"*\"        \" \"       \"*\"         \n",
       "24  ( 1 ) \"*\"  \"*\" \"*\"      \"*\"  \"*\"  \"*\"        \" \"       \"*\"         \n",
       "25  ( 1 ) \"*\"  \"*\" \"*\"      \"*\"  \"*\"  \"*\"        \" \"       \"*\"         \n",
       "26  ( 1 ) \"*\"  \"*\" \"*\"      \"*\"  \"*\"  \"*\"        \" \"       \"*\"         \n",
       "          Mjobteacher Fjobhealth Fjobother Fjobservices Fjobteacher\n",
       "1  ( 1 )  \" \"         \" \"        \" \"       \" \"          \" \"        \n",
       "2  ( 1 )  \" \"         \" \"        \" \"       \" \"          \" \"        \n",
       "3  ( 1 )  \" \"         \" \"        \" \"       \" \"          \" \"        \n",
       "4  ( 1 )  \" \"         \" \"        \" \"       \" \"          \" \"        \n",
       "5  ( 1 )  \" \"         \" \"        \" \"       \" \"          \" \"        \n",
       "6  ( 1 )  \" \"         \" \"        \" \"       \" \"          \" \"        \n",
       "7  ( 1 )  \" \"         \" \"        \" \"       \" \"          \" \"        \n",
       "8  ( 1 )  \" \"         \" \"        \" \"       \" \"          \" \"        \n",
       "9  ( 1 )  \" \"         \" \"        \" \"       \" \"          \" \"        \n",
       "10  ( 1 ) \" \"         \" \"        \" \"       \" \"          \"*\"        \n",
       "11  ( 1 ) \" \"         \" \"        \" \"       \" \"          \"*\"        \n",
       "12  ( 1 ) \" \"         \" \"        \" \"       \" \"          \"*\"        \n",
       "13  ( 1 ) \" \"         \" \"        \" \"       \" \"          \"*\"        \n",
       "14  ( 1 ) \" \"         \" \"        \" \"       \" \"          \"*\"        \n",
       "15  ( 1 ) \" \"         \" \"        \" \"       \" \"          \"*\"        \n",
       "16  ( 1 ) \" \"         \" \"        \" \"       \" \"          \"*\"        \n",
       "17  ( 1 ) \" \"         \"*\"        \" \"       \" \"          \"*\"        \n",
       "18  ( 1 ) \"*\"         \"*\"        \" \"       \" \"          \"*\"        \n",
       "19  ( 1 ) \"*\"         \"*\"        \" \"       \" \"          \"*\"        \n",
       "20  ( 1 ) \"*\"         \"*\"        \" \"       \" \"          \"*\"        \n",
       "21  ( 1 ) \"*\"         \"*\"        \" \"       \" \"          \"*\"        \n",
       "22  ( 1 ) \"*\"         \"*\"        \" \"       \" \"          \"*\"        \n",
       "23  ( 1 ) \"*\"         \"*\"        \" \"       \" \"          \"*\"        \n",
       "24  ( 1 ) \"*\"         \"*\"        \"*\"       \" \"          \"*\"        \n",
       "25  ( 1 ) \"*\"         \"*\"        \"*\"       \"*\"          \"*\"        \n",
       "26  ( 1 ) \"*\"         \"*\"        \"*\"       \"*\"          \"*\"        \n",
       "          guardianmother guardianother traveltime studytime failures\n",
       "1  ( 1 )  \" \"            \" \"           \" \"        \" \"       \"*\"     \n",
       "2  ( 1 )  \" \"            \" \"           \" \"        \" \"       \"*\"     \n",
       "3  ( 1 )  \" \"            \" \"           \" \"        \" \"       \"*\"     \n",
       "4  ( 1 )  \" \"            \" \"           \" \"        \" \"       \"*\"     \n",
       "5  ( 1 )  \" \"            \" \"           \" \"        \" \"       \"*\"     \n",
       "6  ( 1 )  \" \"            \" \"           \" \"        \" \"       \"*\"     \n",
       "7  ( 1 )  \" \"            \" \"           \" \"        \" \"       \"*\"     \n",
       "8  ( 1 )  \" \"            \" \"           \" \"        \" \"       \"*\"     \n",
       "9  ( 1 )  \" \"            \" \"           \" \"        \" \"       \"*\"     \n",
       "10  ( 1 ) \" \"            \" \"           \" \"        \"*\"       \"*\"     \n",
       "11  ( 1 ) \" \"            \" \"           \" \"        \"*\"       \"*\"     \n",
       "12  ( 1 ) \" \"            \" \"           \" \"        \"*\"       \"*\"     \n",
       "13  ( 1 ) \" \"            \" \"           \" \"        \"*\"       \"*\"     \n",
       "14  ( 1 ) \" \"            \" \"           \" \"        \"*\"       \"*\"     \n",
       "15  ( 1 ) \" \"            \" \"           \" \"        \"*\"       \"*\"     \n",
       "16  ( 1 ) \" \"            \" \"           \" \"        \"*\"       \"*\"     \n",
       "17  ( 1 ) \" \"            \" \"           \" \"        \"*\"       \"*\"     \n",
       "18  ( 1 ) \" \"            \" \"           \" \"        \"*\"       \"*\"     \n",
       "19  ( 1 ) \" \"            \" \"           \"*\"        \"*\"       \"*\"     \n",
       "20  ( 1 ) \" \"            \" \"           \"*\"        \"*\"       \"*\"     \n",
       "21  ( 1 ) \" \"            \"*\"           \"*\"        \"*\"       \"*\"     \n",
       "22  ( 1 ) \" \"            \"*\"           \"*\"        \"*\"       \"*\"     \n",
       "23  ( 1 ) \" \"            \"*\"           \"*\"        \"*\"       \"*\"     \n",
       "24  ( 1 ) \" \"            \"*\"           \"*\"        \"*\"       \"*\"     \n",
       "25  ( 1 ) \" \"            \"*\"           \"*\"        \"*\"       \"*\"     \n",
       "26  ( 1 ) \"*\"            \"*\"           \"*\"        \"*\"       \"*\"     \n",
       "          schoolsupyes higheryes internetyes famrel freetime goout Dalc Walc\n",
       "1  ( 1 )  \" \"          \" \"       \" \"         \" \"    \" \"      \" \"   \" \"  \" \" \n",
       "2  ( 1 )  \" \"          \" \"       \" \"         \" \"    \" \"      \" \"   \" \"  \" \" \n",
       "3  ( 1 )  \" \"          \" \"       \" \"         \" \"    \" \"      \" \"   \" \"  \" \" \n",
       "4  ( 1 )  \" \"          \" \"       \" \"         \" \"    \" \"      \" \"   \" \"  \" \" \n",
       "5  ( 1 )  \" \"          \" \"       \" \"         \" \"    \" \"      \"*\"   \" \"  \" \" \n",
       "6  ( 1 )  \" \"          \" \"       \" \"         \" \"    \" \"      \"*\"   \" \"  \" \" \n",
       "7  ( 1 )  \" \"          \"*\"       \" \"         \" \"    \" \"      \"*\"   \" \"  \" \" \n",
       "8  ( 1 )  \" \"          \"*\"       \" \"         \" \"    \" \"      \"*\"   \" \"  \" \" \n",
       "9  ( 1 )  \"*\"          \"*\"       \" \"         \" \"    \" \"      \"*\"   \" \"  \" \" \n",
       "10  ( 1 ) \"*\"          \"*\"       \" \"         \" \"    \" \"      \"*\"   \" \"  \" \" \n",
       "11  ( 1 ) \"*\"          \"*\"       \" \"         \" \"    \" \"      \"*\"   \" \"  \" \" \n",
       "12  ( 1 ) \"*\"          \"*\"       \" \"         \" \"    \" \"      \"*\"   \" \"  \" \" \n",
       "13  ( 1 ) \"*\"          \"*\"       \" \"         \" \"    \"*\"      \"*\"   \" \"  \" \" \n",
       "14  ( 1 ) \"*\"          \"*\"       \" \"         \"*\"    \" \"      \"*\"   \" \"  \"*\" \n",
       "15  ( 1 ) \"*\"          \"*\"       \" \"         \"*\"    \" \"      \"*\"   \" \"  \"*\" \n",
       "16  ( 1 ) \"*\"          \"*\"       \" \"         \"*\"    \"*\"      \"*\"   \" \"  \"*\" \n",
       "17  ( 1 ) \"*\"          \"*\"       \" \"         \"*\"    \"*\"      \"*\"   \" \"  \"*\" \n",
       "18  ( 1 ) \"*\"          \"*\"       \" \"         \"*\"    \"*\"      \"*\"   \" \"  \"*\" \n",
       "19  ( 1 ) \"*\"          \"*\"       \" \"         \"*\"    \"*\"      \"*\"   \" \"  \"*\" \n",
       "20  ( 1 ) \"*\"          \"*\"       \" \"         \"*\"    \"*\"      \"*\"   \" \"  \"*\" \n",
       "21  ( 1 ) \"*\"          \"*\"       \" \"         \"*\"    \"*\"      \"*\"   \" \"  \"*\" \n",
       "22  ( 1 ) \"*\"          \"*\"       \"*\"         \"*\"    \"*\"      \"*\"   \" \"  \"*\" \n",
       "23  ( 1 ) \"*\"          \"*\"       \"*\"         \"*\"    \"*\"      \"*\"   \"*\"  \"*\" \n",
       "24  ( 1 ) \"*\"          \"*\"       \"*\"         \"*\"    \"*\"      \"*\"   \"*\"  \"*\" \n",
       "25  ( 1 ) \"*\"          \"*\"       \"*\"         \"*\"    \"*\"      \"*\"   \"*\"  \"*\" \n",
       "26  ( 1 ) \"*\"          \"*\"       \"*\"         \"*\"    \"*\"      \"*\"   \"*\"  \"*\" \n",
       "          health\n",
       "1  ( 1 )  \" \"   \n",
       "2  ( 1 )  \" \"   \n",
       "3  ( 1 )  \" \"   \n",
       "4  ( 1 )  \" \"   \n",
       "5  ( 1 )  \" \"   \n",
       "6  ( 1 )  \" \"   \n",
       "7  ( 1 )  \" \"   \n",
       "8  ( 1 )  \"*\"   \n",
       "9  ( 1 )  \"*\"   \n",
       "10  ( 1 ) \"*\"   \n",
       "11  ( 1 ) \"*\"   \n",
       "12  ( 1 ) \"*\"   \n",
       "13  ( 1 ) \"*\"   \n",
       "14  ( 1 ) \"*\"   \n",
       "15  ( 1 ) \"*\"   \n",
       "16  ( 1 ) \"*\"   \n",
       "17  ( 1 ) \"*\"   \n",
       "18  ( 1 ) \"*\"   \n",
       "19  ( 1 ) \"*\"   \n",
       "20  ( 1 ) \"*\"   \n",
       "21  ( 1 ) \"*\"   \n",
       "22  ( 1 ) \"*\"   \n",
       "23  ( 1 ) \"*\"   \n",
       "24  ( 1 ) \"*\"   \n",
       "25  ( 1 ) \"*\"   \n",
       "26  ( 1 ) \"*\"   "
      ]
     },
     "metadata": {},
     "output_type": "display_data"
    }
   ],
   "source": [
    "options(repos = c(CRAN = \"https://cran.r-project.org\"))\n",
    "install.packages(\"leaps\")\n",
    "library(leaps)\n",
    "install.packages(\"dplyr\")\n",
    "library(dplyr)\n",
    "#setting seed\n",
    "set.seed(3755)\n",
    "\n",
    "# apply best selection on dataset\n",
    "best_selection <- regsubsets(\n",
    "  x =  final_grade ~ ., nvmax = 26 ,\n",
    "  data = data_selected,\n",
    "  method = \"exhaustive\"\n",
    ")\n",
    "\n",
    "best_selection_summary <- summary(best_selection)\n",
    "best_selection_summary"
   ]
  },
  {
   "cell_type": "code",
   "execution_count": 19,
   "id": "706c22da-9caf-414c-8bc1-bf315a260c9a",
   "metadata": {},
   "outputs": [
    {
     "data": {
      "text/html": [
       "<table class=\"dataframe\">\n",
       "<caption>A tibble: 26 × 4</caption>\n",
       "<thead>\n",
       "\t<tr><th scope=col>n_input_variables</th><th scope=col>RSQ</th><th scope=col>ADJ.R2</th><th scope=col>Cp</th></tr>\n",
       "\t<tr><th scope=col>&lt;int&gt;</th><th scope=col>&lt;dbl&gt;</th><th scope=col>&lt;dbl&gt;</th><th scope=col>&lt;dbl&gt;</th></tr>\n",
       "</thead>\n",
       "<tbody>\n",
       "\t<tr><td> 1</td><td>0.1298989</td><td>0.1276849</td><td>28.381579</td></tr>\n",
       "\t<tr><td> 2</td><td>0.1483134</td><td>0.1439681</td><td>21.505938</td></tr>\n",
       "\t<tr><td> 3</td><td>0.1598983</td><td>0.1534525</td><td>17.922147</td></tr>\n",
       "\t<tr><td> 4</td><td>0.1740312</td><td>0.1655597</td><td>13.110210</td></tr>\n",
       "\t<tr><td> 5</td><td>0.1853361</td><td>0.1748648</td><td> 9.661317</td></tr>\n",
       "\t<tr><td> 6</td><td>0.1940542</td><td>0.1815911</td><td> 7.459260</td></tr>\n",
       "\t<tr><td> 7</td><td>0.1995655</td><td>0.1850874</td><td> 6.802845</td></tr>\n",
       "\t<tr><td> 8</td><td>0.2047635</td><td>0.1882819</td><td> 6.297479</td></tr>\n",
       "\t<tr><td> 9</td><td>0.2098242</td><td>0.1913526</td><td> 5.858247</td></tr>\n",
       "\t<tr><td>10</td><td>0.2137819</td><td>0.1933075</td><td> 5.950674</td></tr>\n",
       "\t<tr><td>11</td><td>0.2181950</td><td>0.1957411</td><td> 5.823605</td></tr>\n",
       "\t<tr><td>12</td><td>0.2209048</td><td>0.1964306</td><td> 6.517478</td></tr>\n",
       "\t<tr><td>13</td><td>0.2234284</td><td>0.1969312</td><td> 7.301156</td></tr>\n",
       "\t<tr><td>14</td><td>0.2260559</td><td>0.1975421</td><td> 8.034731</td></tr>\n",
       "\t<tr><td>15</td><td>0.2282163</td><td>0.1976707</td><td> 8.993433</td></tr>\n",
       "\t<tr><td>16</td><td>0.2302252</td><td>0.1976421</td><td>10.025136</td></tr>\n",
       "\t<tr><td>17</td><td>0.2317264</td><td>0.1970828</td><td>11.301562</td></tr>\n",
       "\t<tr><td>18</td><td>0.2331883</td><td>0.1964792</td><td>12.596970</td></tr>\n",
       "\t<tr><td>19</td><td>0.2345480</td><td>0.1957651</td><td>13.941565</td></tr>\n",
       "\t<tr><td>20</td><td>0.2353998</td><td>0.1945121</td><td>15.531011</td></tr>\n",
       "\t<tr><td>21</td><td>0.2363524</td><td>0.1933588</td><td>17.071896</td></tr>\n",
       "\t<tr><td>22</td><td>0.2370561</td><td>0.1919358</td><td>18.732696</td></tr>\n",
       "\t<tr><td>23</td><td>0.2376940</td><td>0.1904351</td><td>20.425247</td></tr>\n",
       "\t<tr><td>24</td><td>0.2380558</td><td>0.1886324</td><td>22.250834</td></tr>\n",
       "\t<tr><td>25</td><td>0.2383482</td><td>0.1867457</td><td>24.109941</td></tr>\n",
       "\t<tr><td>26</td><td>0.2385128</td><td>0.1847121</td><td>26.030586</td></tr>\n",
       "</tbody>\n",
       "</table>\n"
      ],
      "text/latex": [
       "A tibble: 26 × 4\n",
       "\\begin{tabular}{llll}\n",
       " n\\_input\\_variables & RSQ & ADJ.R2 & Cp\\\\\n",
       " <int> & <dbl> & <dbl> & <dbl>\\\\\n",
       "\\hline\n",
       "\t  1 & 0.1298989 & 0.1276849 & 28.381579\\\\\n",
       "\t  2 & 0.1483134 & 0.1439681 & 21.505938\\\\\n",
       "\t  3 & 0.1598983 & 0.1534525 & 17.922147\\\\\n",
       "\t  4 & 0.1740312 & 0.1655597 & 13.110210\\\\\n",
       "\t  5 & 0.1853361 & 0.1748648 &  9.661317\\\\\n",
       "\t  6 & 0.1940542 & 0.1815911 &  7.459260\\\\\n",
       "\t  7 & 0.1995655 & 0.1850874 &  6.802845\\\\\n",
       "\t  8 & 0.2047635 & 0.1882819 &  6.297479\\\\\n",
       "\t  9 & 0.2098242 & 0.1913526 &  5.858247\\\\\n",
       "\t 10 & 0.2137819 & 0.1933075 &  5.950674\\\\\n",
       "\t 11 & 0.2181950 & 0.1957411 &  5.823605\\\\\n",
       "\t 12 & 0.2209048 & 0.1964306 &  6.517478\\\\\n",
       "\t 13 & 0.2234284 & 0.1969312 &  7.301156\\\\\n",
       "\t 14 & 0.2260559 & 0.1975421 &  8.034731\\\\\n",
       "\t 15 & 0.2282163 & 0.1976707 &  8.993433\\\\\n",
       "\t 16 & 0.2302252 & 0.1976421 & 10.025136\\\\\n",
       "\t 17 & 0.2317264 & 0.1970828 & 11.301562\\\\\n",
       "\t 18 & 0.2331883 & 0.1964792 & 12.596970\\\\\n",
       "\t 19 & 0.2345480 & 0.1957651 & 13.941565\\\\\n",
       "\t 20 & 0.2353998 & 0.1945121 & 15.531011\\\\\n",
       "\t 21 & 0.2363524 & 0.1933588 & 17.071896\\\\\n",
       "\t 22 & 0.2370561 & 0.1919358 & 18.732696\\\\\n",
       "\t 23 & 0.2376940 & 0.1904351 & 20.425247\\\\\n",
       "\t 24 & 0.2380558 & 0.1886324 & 22.250834\\\\\n",
       "\t 25 & 0.2383482 & 0.1867457 & 24.109941\\\\\n",
       "\t 26 & 0.2385128 & 0.1847121 & 26.030586\\\\\n",
       "\\end{tabular}\n"
      ],
      "text/markdown": [
       "\n",
       "A tibble: 26 × 4\n",
       "\n",
       "| n_input_variables &lt;int&gt; | RSQ &lt;dbl&gt; | ADJ.R2 &lt;dbl&gt; | Cp &lt;dbl&gt; |\n",
       "|---|---|---|---|\n",
       "|  1 | 0.1298989 | 0.1276849 | 28.381579 |\n",
       "|  2 | 0.1483134 | 0.1439681 | 21.505938 |\n",
       "|  3 | 0.1598983 | 0.1534525 | 17.922147 |\n",
       "|  4 | 0.1740312 | 0.1655597 | 13.110210 |\n",
       "|  5 | 0.1853361 | 0.1748648 |  9.661317 |\n",
       "|  6 | 0.1940542 | 0.1815911 |  7.459260 |\n",
       "|  7 | 0.1995655 | 0.1850874 |  6.802845 |\n",
       "|  8 | 0.2047635 | 0.1882819 |  6.297479 |\n",
       "|  9 | 0.2098242 | 0.1913526 |  5.858247 |\n",
       "| 10 | 0.2137819 | 0.1933075 |  5.950674 |\n",
       "| 11 | 0.2181950 | 0.1957411 |  5.823605 |\n",
       "| 12 | 0.2209048 | 0.1964306 |  6.517478 |\n",
       "| 13 | 0.2234284 | 0.1969312 |  7.301156 |\n",
       "| 14 | 0.2260559 | 0.1975421 |  8.034731 |\n",
       "| 15 | 0.2282163 | 0.1976707 |  8.993433 |\n",
       "| 16 | 0.2302252 | 0.1976421 | 10.025136 |\n",
       "| 17 | 0.2317264 | 0.1970828 | 11.301562 |\n",
       "| 18 | 0.2331883 | 0.1964792 | 12.596970 |\n",
       "| 19 | 0.2345480 | 0.1957651 | 13.941565 |\n",
       "| 20 | 0.2353998 | 0.1945121 | 15.531011 |\n",
       "| 21 | 0.2363524 | 0.1933588 | 17.071896 |\n",
       "| 22 | 0.2370561 | 0.1919358 | 18.732696 |\n",
       "| 23 | 0.2376940 | 0.1904351 | 20.425247 |\n",
       "| 24 | 0.2380558 | 0.1886324 | 22.250834 |\n",
       "| 25 | 0.2383482 | 0.1867457 | 24.109941 |\n",
       "| 26 | 0.2385128 | 0.1847121 | 26.030586 |\n",
       "\n"
      ],
      "text/plain": [
       "   n_input_variables RSQ       ADJ.R2    Cp       \n",
       "1   1                0.1298989 0.1276849 28.381579\n",
       "2   2                0.1483134 0.1439681 21.505938\n",
       "3   3                0.1598983 0.1534525 17.922147\n",
       "4   4                0.1740312 0.1655597 13.110210\n",
       "5   5                0.1853361 0.1748648  9.661317\n",
       "6   6                0.1940542 0.1815911  7.459260\n",
       "7   7                0.1995655 0.1850874  6.802845\n",
       "8   8                0.2047635 0.1882819  6.297479\n",
       "9   9                0.2098242 0.1913526  5.858247\n",
       "10 10                0.2137819 0.1933075  5.950674\n",
       "11 11                0.2181950 0.1957411  5.823605\n",
       "12 12                0.2209048 0.1964306  6.517478\n",
       "13 13                0.2234284 0.1969312  7.301156\n",
       "14 14                0.2260559 0.1975421  8.034731\n",
       "15 15                0.2282163 0.1976707  8.993433\n",
       "16 16                0.2302252 0.1976421 10.025136\n",
       "17 17                0.2317264 0.1970828 11.301562\n",
       "18 18                0.2331883 0.1964792 12.596970\n",
       "19 19                0.2345480 0.1957651 13.941565\n",
       "20 20                0.2353998 0.1945121 15.531011\n",
       "21 21                0.2363524 0.1933588 17.071896\n",
       "22 22                0.2370561 0.1919358 18.732696\n",
       "23 23                0.2376940 0.1904351 20.425247\n",
       "24 24                0.2380558 0.1886324 22.250834\n",
       "25 25                0.2383482 0.1867457 24.109941\n",
       "26 26                0.2385128 0.1847121 26.030586"
      ]
     },
     "metadata": {},
     "output_type": "display_data"
    }
   ],
   "source": [
    "# best selection summary table\n",
    "n_vars <- length(best_selection_summary$rsq)\n",
    "\n",
    "best_selection_summary_df <- tibble(\n",
    "    n_input_variables = 1:n_vars,\n",
    "    RSQ = best_selection_summary$rsq,\n",
    "    ADJ.R2 = best_selection_summary$adjr2,\n",
    "    Cp = best_selection_summary$cp,\n",
    ")\n",
    "\n",
    "best_selection_summary_df"
   ]
  },
  {
   "cell_type": "code",
   "execution_count": 13,
   "id": "c7e6947f-c7d1-4e54-b736-dbdfa58b0308",
   "metadata": {},
   "outputs": [
    {
     "data": {
      "text/html": [
       "15"
      ],
      "text/latex": [
       "15"
      ],
      "text/markdown": [
       "15"
      ],
      "text/plain": [
       "[1] 15"
      ]
     },
     "metadata": {},
     "output_type": "display_data"
    }
   ],
   "source": [
    "which.max(best_selection_summary_df$ADJ.R2)"
   ]
  },
  {
   "cell_type": "code",
   "execution_count": 20,
   "id": "6aa76fba-f452-4309-ac2b-972cf081f352",
   "metadata": {},
   "outputs": [
    {
     "data": {
      "text/plain": [
       "\n",
       "Call:\n",
       "lm(formula = final_grade ~ sex + Medu + Mjob + failures + goout, \n",
       "    data = data)\n",
       "\n",
       "Residuals:\n",
       "     Min       1Q   Median       3Q      Max \n",
       "-12.0738  -1.8839   0.3658   2.7607   9.1558 \n",
       "\n",
       "Coefficients:\n",
       "              Estimate Std. Error t value Pr(>|t|)    \n",
       "(Intercept)  10.298779   0.890808  11.561  < 2e-16 ***\n",
       "sexM          1.142195   0.430688   2.652  0.00833 ** \n",
       "Medu          0.489216   0.254418   1.923  0.05523 .  \n",
       "Mjobhealth    1.636253   1.019862   1.604  0.10945    \n",
       "Mjobother    -0.004372   0.672409  -0.007  0.99482    \n",
       "Mjobservices  1.251164   0.742834   1.684  0.09293 .  \n",
       "Mjobteacher  -0.381559   0.967138  -0.395  0.69341    \n",
       "failures     -2.076422   0.295613  -7.024 9.79e-12 ***\n",
       "goout        -0.477658   0.191180  -2.498  0.01289 *  \n",
       "---\n",
       "Signif. codes:  0 ‘***’ 0.001 ‘**’ 0.01 ‘*’ 0.05 ‘.’ 0.1 ‘ ’ 1\n",
       "\n",
       "Residual standard error: 4.154 on 386 degrees of freedom\n",
       "Multiple R-squared:  0.1946,\tAdjusted R-squared:  0.1779 \n",
       "F-statistic: 11.66 on 8 and 386 DF,  p-value: 7.085e-15\n"
      ]
     },
     "metadata": {},
     "output_type": "display_data"
    }
   ],
   "source": [
    "reduced_model <- lm(final_grade ~ sex + Medu + Mjob + failures +goout, data=data)\n",
    "summary(reduced_model)"
   ]
  },
  {
   "cell_type": "markdown",
   "id": "16e5bed7-b2a5-46ba-90f7-b0793e6027d1",
   "metadata": {},
   "source": [
    "# Analysis: Logistic Regression"
   ]
  },
  {
   "cell_type": "code",
   "execution_count": 21,
   "id": "088e9ec6-f727-4d58-914f-1ad199a9860a",
   "metadata": {},
   "outputs": [
    {
     "data": {
      "text/plain": [
       "\n",
       "Call:\n",
       "glm(formula = pass_fail ~ . - final_grade, family = binomial, \n",
       "    data = binary_data)\n",
       "\n",
       "Coefficients:\n",
       "                Estimate Std. Error z value Pr(>|z|)    \n",
       "(Intercept)     4.078851   2.509396   1.625 0.104071    \n",
       "sexM            0.508719   0.291815   1.743 0.081283 .  \n",
       "age            -0.235180   0.121233  -1.940 0.052392 .  \n",
       "addressU        0.143668   0.318057   0.452 0.651481    \n",
       "Medu            0.057110   0.183766   0.311 0.755969    \n",
       "Fedu            0.019009   0.161010   0.118 0.906019    \n",
       "Mjobhealth      0.515792   0.671692   0.768 0.442547    \n",
       "Mjobother      -0.299375   0.398932  -0.750 0.452988    \n",
       "Mjobservices    0.436624   0.456226   0.957 0.338550    \n",
       "Mjobteacher    -0.775448   0.578098  -1.341 0.179798    \n",
       "Fjobhealth     -0.030597   0.804993  -0.038 0.969680    \n",
       "Fjobother       0.186522   0.567289   0.329 0.742311    \n",
       "Fjobservices   -0.088632   0.585154  -0.151 0.879607    \n",
       "Fjobteacher     0.618818   0.740042   0.836 0.403047    \n",
       "guardianmother -0.114481   0.321897  -0.356 0.722106    \n",
       "guardianother   0.058481   0.563776   0.104 0.917383    \n",
       "traveltime      0.004423   0.192864   0.023 0.981705    \n",
       "studytime       0.191893   0.168170   1.141 0.253843    \n",
       "failures       -0.915965   0.203822  -4.494 6.99e-06 ***\n",
       "schoolsupyes   -0.958941   0.369509  -2.595 0.009454 ** \n",
       "higheryes       0.726435   0.608551   1.194 0.232591    \n",
       "internetyes     0.178787   0.335248   0.533 0.593828    \n",
       "famrel          0.190042   0.145464   1.306 0.191400    \n",
       "freetime        0.111210   0.138471   0.803 0.421900    \n",
       "goout          -0.517331   0.137506  -3.762 0.000168 ***\n",
       "Dalc           -0.081771   0.191180  -0.428 0.668859    \n",
       "Walc            0.260203   0.145121   1.793 0.072971 .  \n",
       "health         -0.176658   0.094653  -1.866 0.061990 .  \n",
       "---\n",
       "Signif. codes:  0 ‘***’ 0.001 ‘**’ 0.01 ‘*’ 0.05 ‘.’ 0.1 ‘ ’ 1\n",
       "\n",
       "(Dispersion parameter for binomial family taken to be 1)\n",
       "\n",
       "    Null deviance: 500.50  on 394  degrees of freedom\n",
       "Residual deviance: 410.19  on 367  degrees of freedom\n",
       "AIC: 466.19\n",
       "\n",
       "Number of Fisher Scoring iterations: 4\n"
      ]
     },
     "metadata": {},
     "output_type": "display_data"
    }
   ],
   "source": [
    "binary_data <- data_selected %>%\n",
    "  mutate(pass_fail = ifelse(final_grade >= 10, 1, 0))\n",
    "\n",
    "logistic_model <- glm(pass_fail ~ .-final_grade,\n",
    "                      data = binary_data,\n",
    "                      family = binomial)\n",
    "\n",
    "summary(logistic_model)"
   ]
  },
  {
   "cell_type": "markdown",
   "id": "a22fa1e8-0c22-47bf-ac39-874e100fc625",
   "metadata": {},
   "source": [
    "## Conclusion"
   ]
  },
  {
   "cell_type": "markdown",
   "id": "cef32f7f-0710-49d0-a7c7-de08087cbf20",
   "metadata": {},
   "source": [
    "## Appendix"
   ]
  },
  {
   "cell_type": "markdown",
   "id": "c78acf5d-9ac1-4fea-9796-22ee0291c485",
   "metadata": {},
   "source": [
    "## References"
   ]
  },
  {
   "cell_type": "code",
   "execution_count": null,
   "id": "7e31b49f-494d-4db5-be84-da66c8361688",
   "metadata": {},
   "outputs": [],
   "source": []
  }
 ],
 "metadata": {
  "kernelspec": {
   "display_name": "R",
   "language": "R",
   "name": "ir"
  },
  "language_info": {
   "codemirror_mode": "r",
   "file_extension": ".r",
   "mimetype": "text/x-r-source",
   "name": "R",
   "pygments_lexer": "r",
   "version": "4.3.3"
  }
 },
 "nbformat": 4,
 "nbformat_minor": 5
}
