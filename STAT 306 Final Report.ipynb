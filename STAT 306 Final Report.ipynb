{
 "cells": [
  {
   "cell_type": "markdown",
   "id": "79654151-d64b-4786-9d42-6a15aa389a31",
   "metadata": {},
   "source": [
    "# STAT 306 Group Project #"
   ]
  }
 ],
 "metadata": {
  "kernelspec": {
   "display_name": "R",
   "language": "R",
   "name": "ir"
  },
  "language_info": {
   "codemirror_mode": "r",
   "file_extension": ".r",
   "mimetype": "text/x-r-source",
   "name": "R",
   "pygments_lexer": "r",
   "version": "4.3.3"
  }
 },
 "nbformat": 4,
 "nbformat_minor": 5
}
